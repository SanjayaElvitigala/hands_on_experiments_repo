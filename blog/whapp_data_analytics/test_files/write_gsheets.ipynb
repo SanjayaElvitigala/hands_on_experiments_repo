{
 "cells": [
  {
   "cell_type": "code",
   "execution_count": 1,
   "metadata": {},
   "outputs": [],
   "source": [
    "import gspread\n",
    "from oauth2client.service_account import ServiceAccountCredentials\n",
    "import pandas as pd\n",
    "import numpy as np"
   ]
  },
  {
   "cell_type": "code",
   "execution_count": 19,
   "metadata": {},
   "outputs": [],
   "source": [
    "\n",
    "\n",
    "# Define the scope\n",
    "scope = ['https://spreadsheets.google.com/feeds', 'https://www.googleapis.com/auth/drive']\n",
    "\n",
    "# Add your service account credentials here\n",
    "credentials = ServiceAccountCredentials.from_json_keyfile_name('credentials.json', scope,)\n",
    "\n",
    "# Authorize the client\n",
    "client = gspread.authorize(credentials)\n",
    "\n",
    "# Open the Google Sheet by its title\n",
    "worksheet = client.open('Testing_input').worksheet(title='Sheet1')\n",
    "\n",
    "# Get the data as a list of lists\n",
    "data = worksheet.get_all_values()\n",
    "\n",
    "# Convert it into a pandas DataFrame\n",
    "df = pd.DataFrame(data[1:], columns=data[0])"
   ]
  },
  {
   "cell_type": "code",
   "execution_count": 5,
   "metadata": {},
   "outputs": [
    {
     "data": {
      "text/plain": [
       "{'spreadsheetId': '1cPAutR6zBFb8M9FvonUIT0VeOO112MOoQaS17xTgCPY',\n",
       " 'updates': {'spreadsheetId': '1cPAutR6zBFb8M9FvonUIT0VeOO112MOoQaS17xTgCPY',\n",
       "  'updatedRange': 'Sheet1!A2:B2',\n",
       "  'updatedRows': 1,\n",
       "  'updatedColumns': 2,\n",
       "  'updatedCells': 2}}"
      ]
     },
     "execution_count": 5,
     "metadata": {},
     "output_type": "execute_result"
    }
   ],
   "source": [
    "worksheet.insert_row(['New Value 1', 'New Value 2'], 2)"
   ]
  },
  {
   "cell_type": "code",
   "execution_count": 6,
   "metadata": {},
   "outputs": [
    {
     "data": {
      "text/plain": [
       "{'spreadsheetId': '1cPAutR6zBFb8M9FvonUIT0VeOO112MOoQaS17xTgCPY',\n",
       " 'tableRange': 'Sheet1!A2:B2',\n",
       " 'updates': {'spreadsheetId': '1cPAutR6zBFb8M9FvonUIT0VeOO112MOoQaS17xTgCPY',\n",
       "  'updatedRange': 'Sheet1!A3:C3',\n",
       "  'updatedRows': 1,\n",
       "  'updatedColumns': 3,\n",
       "  'updatedCells': 3}}"
      ]
     },
     "execution_count": 6,
     "metadata": {},
     "output_type": "execute_result"
    }
   ],
   "source": [
    "new_row = ['Value 1', 'Value 2', 'Value 3']  # Replace with your new row data\n",
    "worksheet.append_row(new_row)"
   ]
  },
  {
   "cell_type": "code",
   "execution_count": 18,
   "metadata": {},
   "outputs": [
    {
     "data": {
      "text/plain": [
       "{'spreadsheetId': '1cPAutR6zBFb8M9FvonUIT0VeOO112MOoQaS17xTgCPY',\n",
       " 'updates': {'spreadsheetId': '1cPAutR6zBFb8M9FvonUIT0VeOO112MOoQaS17xTgCPY',\n",
       "  'updatedRange': 'Sheet1!A6:C6',\n",
       "  'updatedRows': 1,\n",
       "  'updatedColumns': 3,\n",
       "  'updatedCells': 3}}"
      ]
     },
     "execution_count": 18,
     "metadata": {},
     "output_type": "execute_result"
    }
   ],
   "source": [
    "# Get all values in the specific column (e.g., column 'A')\n",
    "column_values = worksheet.col_values(1)  # '1' refers to column A\n",
    "\n",
    "# Find the last non-empty row in the column\n",
    "last_row = len(column_values)\n",
    "\n",
    "# Define the new row data\n",
    "new_row = ['New Value 1', 'New Value 2', 'New Value 3']  # Replace with your data\n",
    "\n",
    "# Insert the new row after the last non-empty row in the specific column\n",
    "worksheet.insert_row(new_row, last_row + 1)"
   ]
  },
  {
   "cell_type": "code",
   "execution_count": 11,
   "metadata": {},
   "outputs": [
    {
     "data": {
      "text/plain": [
       "['', 'New Value 1', 'Value 1', 'New Value 1']"
      ]
     },
     "execution_count": 11,
     "metadata": {},
     "output_type": "execute_result"
    }
   ],
   "source": [
    "column_values"
   ]
  },
  {
   "cell_type": "code",
   "execution_count": 22,
   "metadata": {},
   "outputs": [
    {
     "data": {
      "text/plain": [
       "['New Value 1', 'New Value 2']"
      ]
     },
     "execution_count": 22,
     "metadata": {},
     "output_type": "execute_result"
    }
   ],
   "source": [
    "worksheet.row_values(int(worksheet.cell(row=1,col=1).value))"
   ]
  }
 ],
 "metadata": {
  "kernelspec": {
   "display_name": ".venv",
   "language": "python",
   "name": "python3"
  },
  "language_info": {
   "codemirror_mode": {
    "name": "ipython",
    "version": 3
   },
   "file_extension": ".py",
   "mimetype": "text/x-python",
   "name": "python",
   "nbconvert_exporter": "python",
   "pygments_lexer": "ipython3",
   "version": "3.10.0"
  }
 },
 "nbformat": 4,
 "nbformat_minor": 2
}
