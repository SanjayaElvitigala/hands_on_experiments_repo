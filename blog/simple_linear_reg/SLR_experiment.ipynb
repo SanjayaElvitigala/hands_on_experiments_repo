{
 "cells": [
  {
   "cell_type": "code",
   "execution_count": 1,
   "metadata": {},
   "outputs": [],
   "source": [
    "import pandas as pd\n",
    "import numpy as np\n"
   ]
  },
  {
   "cell_type": "code",
   "execution_count": 2,
   "metadata": {},
   "outputs": [],
   "source": [
    "# creation of sample data\n",
    "n = 100  # Number of observations\n",
    "X = np.random.rand(n, 1) * 10  # Independent variable (random values between 0 and 10)\n",
    "# True relationship\n",
    "beta_0 = 5 \n",
    "beta_1 = 2\n",
    "# Introduce some noise (errors)\n",
    "errors = np.random.normal(0, 2, n)  # Normally distributed errors with mean 0 and std 2\n",
    "Y = beta_0 + beta_1 * X.flatten() + errors  # Dependent variable\n"
   ]
  },
  {
   "cell_type": "code",
   "execution_count": 3,
   "metadata": {},
   "outputs": [
    {
     "name": "stdout",
     "output_type": "stream",
     "text": [
      "Learned Coefficients (Beta): [-8.8817842e-15  1.0000000e+00]\n"
     ]
    }
   ],
   "source": [
    "\n",
    "def ols_regression(X, y):\n",
    "    # Add intercept column if not already included\n",
    "    if np.all(X[:, 0] != 1):\n",
    "        X = np.column_stack((np.ones(X.shape[0]), X))\n",
    "    \n",
    "    # Calculate (X^T X)^{-1} X^T y\n",
    "    XtX = np.dot(X.T, X)\n",
    "    XtX_inv = np.linalg.inv(XtX)\n",
    "    XtX_inv_Xt = np.dot(XtX_inv, X.T)\n",
    "    beta = np.dot(XtX_inv_Xt, y)\n",
    "    \n",
    "    return beta\n",
    "\n",
    "# Example usage with training data\n",
    "X_train = np.array([[1, 2], [2, 3], [4, 5]])  # Example feature matrix\n",
    "y_train = np.array([2, 3, 5])  # Example target variable\n",
    "\n",
    "beta = ols_regression(X_train, y_train)\n",
    "print(\"Learned Coefficients (Beta):\", beta)\n"
   ]
  },
  {
   "cell_type": "code",
   "execution_count": null,
   "metadata": {},
   "outputs": [],
   "source": []
  }
 ],
 "metadata": {
  "kernelspec": {
   "display_name": ".venv",
   "language": "python",
   "name": "python3"
  },
  "language_info": {
   "codemirror_mode": {
    "name": "ipython",
    "version": 3
   },
   "file_extension": ".py",
   "mimetype": "text/x-python",
   "name": "python",
   "nbconvert_exporter": "python",
   "pygments_lexer": "ipython3",
   "version": "3.10.0"
  }
 },
 "nbformat": 4,
 "nbformat_minor": 2
}
