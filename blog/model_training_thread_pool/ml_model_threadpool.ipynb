{
 "cells": [
  {
   "cell_type": "code",
   "execution_count": 1,
   "metadata": {},
   "outputs": [],
   "source": [
    "import numpy as np\n",
    "import pandas as pd\n",
    "import lightgbm as lgb\n"
   ]
  },
  {
   "cell_type": "code",
   "execution_count": 32,
   "metadata": {},
   "outputs": [],
   "source": [
    "#creating the synthetic data\n",
    "row_count = 500\n",
    "X_vars = [np.random.rand(row_count, 1)*np.random.randint(2,10) for i in range(6)]\n",
    "Y_vars = [ x_var*(index+2) for index,x_var in enumerate(X_vars)]\n",
    "\n",
    "cols = [f'Y{i}' for i in range(len(Y_vars))]+[f'X{i}' for i in range(len(Y_vars))]\n",
    "all_data = pd.DataFrame(np.concatenate(Y_vars+X_vars, axis=1), columns=cols)\n"
   ]
  },
  {
   "cell_type": "code",
   "execution_count": null,
   "metadata": {},
   "outputs": [],
   "source": []
  }
 ],
 "metadata": {
  "kernelspec": {
   "display_name": ".venv",
   "language": "python",
   "name": "python3"
  },
  "language_info": {
   "codemirror_mode": {
    "name": "ipython",
    "version": 3
   },
   "file_extension": ".py",
   "mimetype": "text/x-python",
   "name": "python",
   "nbconvert_exporter": "python",
   "pygments_lexer": "ipython3",
   "version": "3.10.0"
  }
 },
 "nbformat": 4,
 "nbformat_minor": 2
}
