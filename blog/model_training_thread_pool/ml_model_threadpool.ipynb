{
 "cells": [
  {
   "cell_type": "code",
   "execution_count": 80,
   "metadata": {},
   "outputs": [],
   "source": [
    "import numpy as np\n",
    "import pandas as pd\n",
    "import lightgbm as lgb\n",
    "import multiprocessing\n",
    "from concurrent.futures import ThreadPoolExecutor, ProcessPoolExecutor\n",
    "import time"
   ]
  },
  {
   "cell_type": "code",
   "execution_count": 81,
   "metadata": {},
   "outputs": [
    {
     "name": "stdout",
     "output_type": "stream",
     "text": [
      "CPUs available: 16\n"
     ]
    }
   ],
   "source": [
    "\n",
    "print('CPUs available:',multiprocessing.cpu_count())"
   ]
  },
  {
   "cell_type": "code",
   "execution_count": 82,
   "metadata": {},
   "outputs": [
    {
     "data": {
      "text/html": [
       "<div>\n",
       "<style scoped>\n",
       "    .dataframe tbody tr th:only-of-type {\n",
       "        vertical-align: middle;\n",
       "    }\n",
       "\n",
       "    .dataframe tbody tr th {\n",
       "        vertical-align: top;\n",
       "    }\n",
       "\n",
       "    .dataframe thead th {\n",
       "        text-align: right;\n",
       "    }\n",
       "</style>\n",
       "<table border=\"1\" class=\"dataframe\">\n",
       "  <thead>\n",
       "    <tr style=\"text-align: right;\">\n",
       "      <th></th>\n",
       "      <th>Y0</th>\n",
       "      <th>Y1</th>\n",
       "      <th>Y2</th>\n",
       "      <th>Y3</th>\n",
       "      <th>Y4</th>\n",
       "      <th>Y5</th>\n",
       "      <th>X0</th>\n",
       "      <th>X1</th>\n",
       "      <th>X2</th>\n",
       "      <th>X3</th>\n",
       "      <th>X4</th>\n",
       "      <th>X5</th>\n",
       "    </tr>\n",
       "  </thead>\n",
       "  <tbody>\n",
       "    <tr>\n",
       "      <th>0</th>\n",
       "      <td>0.723258</td>\n",
       "      <td>0.151923</td>\n",
       "      <td>12.675893</td>\n",
       "      <td>7.950782</td>\n",
       "      <td>4.493536</td>\n",
       "      <td>41.815623</td>\n",
       "      <td>0.361629</td>\n",
       "      <td>0.050641</td>\n",
       "      <td>3.168973</td>\n",
       "      <td>1.590156</td>\n",
       "      <td>0.748923</td>\n",
       "      <td>5.973660</td>\n",
       "    </tr>\n",
       "    <tr>\n",
       "      <th>1</th>\n",
       "      <td>2.179604</td>\n",
       "      <td>24.625261</td>\n",
       "      <td>12.420465</td>\n",
       "      <td>3.119274</td>\n",
       "      <td>21.864902</td>\n",
       "      <td>29.230100</td>\n",
       "      <td>1.089802</td>\n",
       "      <td>8.208420</td>\n",
       "      <td>3.105116</td>\n",
       "      <td>0.623855</td>\n",
       "      <td>3.644150</td>\n",
       "      <td>4.175729</td>\n",
       "    </tr>\n",
       "  </tbody>\n",
       "</table>\n",
       "</div>"
      ],
      "text/plain": [
       "         Y0         Y1         Y2        Y3         Y4         Y5        X0  \\\n",
       "0  0.723258   0.151923  12.675893  7.950782   4.493536  41.815623  0.361629   \n",
       "1  2.179604  24.625261  12.420465  3.119274  21.864902  29.230100  1.089802   \n",
       "\n",
       "         X1        X2        X3        X4        X5  \n",
       "0  0.050641  3.168973  1.590156  0.748923  5.973660  \n",
       "1  8.208420  3.105116  0.623855  3.644150  4.175729  "
      ]
     },
     "execution_count": 82,
     "metadata": {},
     "output_type": "execute_result"
    }
   ],
   "source": [
    "#creating the synthetic data\n",
    "row_count = 500\n",
    "X_vars = [np.random.rand(row_count, 1)*np.random.randint(2,10) for i in range(6)]\n",
    "Y_vars = [ x_var*(index+2) for index,x_var in enumerate(X_vars)]\n",
    "\n",
    "X_cols = [f'X{i}' for i in range(len(Y_vars))]\n",
    "Y_cols = [f'Y{i}' for i in range(len(Y_vars))]\n",
    "all_data = pd.DataFrame(np.concatenate(Y_vars+X_vars, axis=1), columns=Y_cols+X_cols)\n",
    "all_data.head(2)"
   ]
  },
  {
   "cell_type": "code",
   "execution_count": 83,
   "metadata": {},
   "outputs": [],
   "source": [
    "class ModelWrapper:\n",
    "\n",
    "    def __init__(self,targets,features, data, is_parallel,executor, lgb_njobs) -> None:\n",
    "        self.targets = targets\n",
    "        self.features = features\n",
    "        self.models = {}\n",
    "        self.data = data\n",
    "        self.is_parallel = is_parallel\n",
    "        self.total_time_taken = 0\n",
    "        self.executor=executor\n",
    "        self.lgb_njobs=lgb_njobs\n",
    "        \n",
    "\n",
    "    def train_inner_model(self, target):\n",
    "        print(f'training inner target: {target}')\n",
    "\n",
    "        self.models[target] = lgb.LGBMRegressor(verbose=-1, n_jobs=self.lgb_njobs)\n",
    "        self.models[target].fit(X=self.data[self.features], y=self.data[target])\n",
    "\n",
    "    def get_pool_executer(self):\n",
    "        if self.executor=='threadpool':\n",
    "            return ThreadPoolExecutor\n",
    "        elif self.executor=='processpool':\n",
    "            return ProcessPoolExecutor\n",
    "\n",
    "    def train(self, n_threads):\n",
    "        start_time = time.time()\n",
    "        if self.is_parallel:\n",
    "            with self.get_pool_executer()(max_workers=n_threads) as executor:\n",
    "                for target in self.targets:\n",
    "                    executor.submit(self.train_inner_model,target )\n",
    "        else:\n",
    "            for target in self.targets:\n",
    "                self.train_inner_model(target)\n",
    "        end_time = time.time()\n",
    "        self.total_time_taken = end_time-start_time\n",
    "\n",
    "        print(f'total time taken : {np.round(self.total_time_taken,4)} seconds')\n",
    "\n",
    "        "
   ]
  },
  {
   "cell_type": "code",
   "execution_count": 92,
   "metadata": {},
   "outputs": [
    {
     "name": "stdout",
     "output_type": "stream",
     "text": [
      "training inner target: Y0\n",
      "training inner target: Y1\n",
      "training inner target: Y2\n",
      "training inner target: Y3\n",
      "training inner target: Y4\n",
      "training inner target: Y5\n",
      "total time taken : 0.1838 seconds\n"
     ]
    }
   ],
   "source": [
    "models_cluster = ModelWrapper(targets=Y_cols, \n",
    "                              features=X_cols,\n",
    "                              is_parallel=False,\n",
    "                              data=all_data,\n",
    "                              executor='',\n",
    "                              lgb_njobs=None)\n",
    "\n",
    "models_cluster.train(6)"
   ]
  },
  {
   "cell_type": "code",
   "execution_count": 98,
   "metadata": {},
   "outputs": [
    {
     "name": "stdout",
     "output_type": "stream",
     "text": [
      "training inner target: Y0\n",
      "training inner target: Y1\n",
      "training inner target: Y2\n",
      "training inner target: Y3\n",
      "training inner target: Y4\n",
      "training inner target: Y5\n",
      "total time taken : 0.0881 seconds\n"
     ]
    }
   ],
   "source": [
    "models_cluster = ModelWrapper(targets=Y_cols, \n",
    "                              features=X_cols,\n",
    "                              is_parallel=True,\n",
    "                              data=all_data,\n",
    "                              executor='threadpool',\n",
    "                              lgb_njobs=1)\n",
    "\n",
    "models_cluster.train(6)"
   ]
  },
  {
   "cell_type": "code",
   "execution_count": null,
   "metadata": {},
   "outputs": [],
   "source": []
  }
 ],
 "metadata": {
  "kernelspec": {
   "display_name": ".venv",
   "language": "python",
   "name": "python3"
  },
  "language_info": {
   "codemirror_mode": {
    "name": "ipython",
    "version": 3
   },
   "file_extension": ".py",
   "mimetype": "text/x-python",
   "name": "python",
   "nbconvert_exporter": "python",
   "pygments_lexer": "ipython3",
   "version": "3.10.0"
  }
 },
 "nbformat": 4,
 "nbformat_minor": 2
}
