{
 "cells": [
  {
   "cell_type": "code",
   "execution_count": 8,
   "metadata": {},
   "outputs": [],
   "source": [
    "import numpy as np\n",
    "import pandas as pd\n",
    "import lightgbm as lgb\n",
    "import multiprocessing\n",
    "from concurrent.futures import ThreadPoolExecutor\n",
    "import time"
   ]
  },
  {
   "cell_type": "code",
   "execution_count": 37,
   "metadata": {},
   "outputs": [
    {
     "name": "stdout",
     "output_type": "stream",
     "text": [
      "CPUs available:  16\n"
     ]
    }
   ],
   "source": [
    "\n",
    "print('CPUs available:',multiprocessing.cpu_count())"
   ]
  },
  {
   "cell_type": "code",
   "execution_count": 6,
   "metadata": {},
   "outputs": [
    {
     "data": {
      "text/html": [
       "<div>\n",
       "<style scoped>\n",
       "    .dataframe tbody tr th:only-of-type {\n",
       "        vertical-align: middle;\n",
       "    }\n",
       "\n",
       "    .dataframe tbody tr th {\n",
       "        vertical-align: top;\n",
       "    }\n",
       "\n",
       "    .dataframe thead th {\n",
       "        text-align: right;\n",
       "    }\n",
       "</style>\n",
       "<table border=\"1\" class=\"dataframe\">\n",
       "  <thead>\n",
       "    <tr style=\"text-align: right;\">\n",
       "      <th></th>\n",
       "      <th>Y0</th>\n",
       "      <th>Y1</th>\n",
       "      <th>Y2</th>\n",
       "      <th>Y3</th>\n",
       "      <th>Y4</th>\n",
       "      <th>Y5</th>\n",
       "      <th>X0</th>\n",
       "      <th>X1</th>\n",
       "      <th>X2</th>\n",
       "      <th>X3</th>\n",
       "      <th>X4</th>\n",
       "      <th>X5</th>\n",
       "    </tr>\n",
       "  </thead>\n",
       "  <tbody>\n",
       "    <tr>\n",
       "      <th>0</th>\n",
       "      <td>4.198349</td>\n",
       "      <td>2.425459</td>\n",
       "      <td>12.407168</td>\n",
       "      <td>3.705444</td>\n",
       "      <td>8.932568</td>\n",
       "      <td>28.119935</td>\n",
       "      <td>2.099174</td>\n",
       "      <td>0.808486</td>\n",
       "      <td>3.101792</td>\n",
       "      <td>0.741089</td>\n",
       "      <td>1.488761</td>\n",
       "      <td>4.017134</td>\n",
       "    </tr>\n",
       "    <tr>\n",
       "      <th>1</th>\n",
       "      <td>0.459737</td>\n",
       "      <td>0.691016</td>\n",
       "      <td>4.015973</td>\n",
       "      <td>29.323626</td>\n",
       "      <td>0.260856</td>\n",
       "      <td>19.216033</td>\n",
       "      <td>0.229868</td>\n",
       "      <td>0.230339</td>\n",
       "      <td>1.003993</td>\n",
       "      <td>5.864725</td>\n",
       "      <td>0.043476</td>\n",
       "      <td>2.745148</td>\n",
       "    </tr>\n",
       "  </tbody>\n",
       "</table>\n",
       "</div>"
      ],
      "text/plain": [
       "         Y0        Y1         Y2         Y3        Y4         Y5        X0  \\\n",
       "0  4.198349  2.425459  12.407168   3.705444  8.932568  28.119935  2.099174   \n",
       "1  0.459737  0.691016   4.015973  29.323626  0.260856  19.216033  0.229868   \n",
       "\n",
       "         X1        X2        X3        X4        X5  \n",
       "0  0.808486  3.101792  0.741089  1.488761  4.017134  \n",
       "1  0.230339  1.003993  5.864725  0.043476  2.745148  "
      ]
     },
     "execution_count": 6,
     "metadata": {},
     "output_type": "execute_result"
    }
   ],
   "source": [
    "#creating the synthetic data\n",
    "row_count = 500\n",
    "X_vars = [np.random.rand(row_count, 1)*np.random.randint(2,10) for i in range(6)]\n",
    "Y_vars = [ x_var*(index+2) for index,x_var in enumerate(X_vars)]\n",
    "\n",
    "X_cols = [f'X{i}' for i in range(len(Y_vars))]\n",
    "Y_cols = [f'Y{i}' for i in range(len(Y_vars))]\n",
    "all_data = pd.DataFrame(np.concatenate(Y_vars+X_vars, axis=1), columns=Y_cols+X_cols)\n",
    "all_data.head(2)"
   ]
  },
  {
   "cell_type": "code",
   "execution_count": 20,
   "metadata": {},
   "outputs": [],
   "source": [
    "class ModelWrapper:\n",
    "\n",
    "    def __init__(self,targets,features, data, is_parallel) -> None:\n",
    "        self.targets = targets\n",
    "        self.features = features\n",
    "        self.models = {}\n",
    "        self.data = data\n",
    "        self.is_parallel = is_parallel\n",
    "        self.total_time_taken = 0\n",
    "        \n",
    "\n",
    "    def train_inner_model(self, target):\n",
    "        print(f'training inner target: {target}')\n",
    "        self.models[target] = lgb.LGBMRegressor(verbose=-1)\n",
    "        self.models[target].fit(X=self.data[self.features], y=self.data[target])\n",
    "\n",
    "    def train(self, n_threads):\n",
    "        start_time = time.time()\n",
    "        if self.is_parallel:\n",
    "            with ThreadPoolExecutor(max_workers=n_threads) as executor:\n",
    "                for target in self.targets:\n",
    "                    executor.submit(self.train_inner_model,target )\n",
    "        else:\n",
    "            for target in self.targets:\n",
    "                self.train_inner_model(target)\n",
    "        end_time = time.time()\n",
    "        self.total_time_taken = end_time-start_time\n",
    "\n",
    "        print(f'total time taken : {np.round(self.total_time_taken,4)} seconds')\n",
    "\n",
    "        "
   ]
  },
  {
   "cell_type": "code",
   "execution_count": 35,
   "metadata": {},
   "outputs": [
    {
     "name": "stdout",
     "output_type": "stream",
     "text": [
      "training inner target: Y0\n",
      "training inner target: Y1\n",
      "training inner target: Y2\n",
      "training inner target: Y3\n",
      "training inner target: Y4\n",
      "training inner target: Y5\n",
      "total time taken : 0.231 seconds\n"
     ]
    }
   ],
   "source": [
    "models_cluster = ModelWrapper(targets=Y_cols, \n",
    "                              features=X_cols,\n",
    "                              is_parallel=False,\n",
    "                              data=all_data)\n",
    "\n",
    "models_cluster.train(6)"
   ]
  },
  {
   "cell_type": "code",
   "execution_count": 36,
   "metadata": {},
   "outputs": [
    {
     "name": "stdout",
     "output_type": "stream",
     "text": [
      "training inner target: Y0\n",
      "training inner target: Y1\n",
      "training inner target: Y2\n",
      "training inner target: Y3\n",
      "training inner target: Y4\n",
      "training inner target: Y5\n",
      "total time taken : 0.3493 seconds\n"
     ]
    }
   ],
   "source": [
    "models_cluster = ModelWrapper(targets=Y_cols, \n",
    "                              features=X_cols,\n",
    "                              is_parallel=True,\n",
    "                              data=all_data)\n",
    "\n",
    "models_cluster.train(6)"
   ]
  },
  {
   "cell_type": "code",
   "execution_count": null,
   "metadata": {},
   "outputs": [],
   "source": []
  }
 ],
 "metadata": {
  "kernelspec": {
   "display_name": ".venv",
   "language": "python",
   "name": "python3"
  },
  "language_info": {
   "codemirror_mode": {
    "name": "ipython",
    "version": 3
   },
   "file_extension": ".py",
   "mimetype": "text/x-python",
   "name": "python",
   "nbconvert_exporter": "python",
   "pygments_lexer": "ipython3",
   "version": "3.10.0"
  }
 },
 "nbformat": 4,
 "nbformat_minor": 2
}
