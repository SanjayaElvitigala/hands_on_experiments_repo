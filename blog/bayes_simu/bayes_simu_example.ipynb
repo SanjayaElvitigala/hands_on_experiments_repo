{
 "cells": [
  {
   "cell_type": "code",
   "execution_count": 2,
   "metadata": {},
   "outputs": [],
   "source": [
    "import numpy as np\n",
    "from copy import deepcopy"
   ]
  },
  {
   "cell_type": "code",
   "execution_count": 3,
   "metadata": {},
   "outputs": [],
   "source": [
    "t_player_starts = [2,7]\n",
    "\n",
    "t_lights_on = 2\n",
    "\n",
    "T1_on_frq = 5 # every 5 minutes\n",
    "T2_on_frq = 30 # every 30 minutes\n",
    "\n",
    "st_to_mid = 10 \n",
    "mid_to_end = 10 \n",
    "\n",
    "n_days = 180\n",
    "n_mins = 120\n"
   ]
  },
  {
   "cell_type": "code",
   "execution_count": 9,
   "metadata": {},
   "outputs": [],
   "source": [
    "operate_times = lambda on_freq : np.arange(start=0,stop=n_mins, step=on_freq)\n",
    "\n",
    "# np.concatenate(\n",
    "#     (np.arange(start=0,stop=n_mins, step=T1_on_frq).reshape(()),\n",
    "#     np.arange(start=0,stop=n_mins, step=T1_on_frq)+2),\n",
    "#     axis=1\n",
    "# )"
   ]
  },
  {
   "cell_type": "code",
   "execution_count": 14,
   "metadata": {},
   "outputs": [
    {
     "data": {
      "text/plain": [
       "array([[  0],\n",
       "       [  5],\n",
       "       [ 10],\n",
       "       [ 15],\n",
       "       [ 20],\n",
       "       [ 25],\n",
       "       [ 30],\n",
       "       [ 35],\n",
       "       [ 40],\n",
       "       [ 45],\n",
       "       [ 50],\n",
       "       [ 55],\n",
       "       [ 60],\n",
       "       [ 65],\n",
       "       [ 70],\n",
       "       [ 75],\n",
       "       [ 80],\n",
       "       [ 85],\n",
       "       [ 90],\n",
       "       [ 95],\n",
       "       [100],\n",
       "       [105],\n",
       "       [110],\n",
       "       [115]])"
      ]
     },
     "execution_count": 14,
     "metadata": {},
     "output_type": "execute_result"
    }
   ],
   "source": [
    "operate_times(5).reshape((operate_times(5).shape[0],1))"
   ]
  },
  {
   "cell_type": "code",
   "execution_count": null,
   "metadata": {},
   "outputs": [],
   "source": [
    "T1_operate_t = np.arr"
   ]
  },
  {
   "cell_type": "code",
   "execution_count": null,
   "metadata": {},
   "outputs": [],
   "source": [
    "count_tracker = {\n",
    "    'T1S1':0,\n",
    "    'T1S2':0,\n",
    "    '~T1S1':0,\n",
    "    '~T1S2':0,\n",
    "    'T2S1':0,\n",
    "    'T2S2':0,\n",
    "    '~T2S1':0,\n",
    "    '~T2S2':0,\n",
    "    'T1':0,\n",
    "    'T2':0,\n",
    "    '~T1':0,\n",
    "    '~T2':0,\n",
    "    'S1':0,\n",
    "    'S2':0\n",
    "}\n",
    "\n",
    "daywise_record = {}\n",
    "\n",
    "\n",
    "for day in range(n_days):\n",
    "    for min in range(n_mins):\n",
    "        "
   ]
  },
  {
   "cell_type": "code",
   "execution_count": null,
   "metadata": {},
   "outputs": [],
   "source": [
    "list(zip(np.array(list(range(1,120+1,5))),np.array(list(range(1,120+1,5)))+2))"
   ]
  }
 ],
 "metadata": {
  "kernelspec": {
   "display_name": ".venv",
   "language": "python",
   "name": "python3"
  },
  "language_info": {
   "codemirror_mode": {
    "name": "ipython",
    "version": 3
   },
   "file_extension": ".py",
   "mimetype": "text/x-python",
   "name": "python",
   "nbconvert_exporter": "python",
   "pygments_lexer": "ipython3",
   "version": "3.10.0"
  }
 },
 "nbformat": 4,
 "nbformat_minor": 2
}
