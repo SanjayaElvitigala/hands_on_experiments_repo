{
 "cells": [
  {
   "cell_type": "code",
   "execution_count": 1,
   "id": "fcc9955c",
   "metadata": {},
   "outputs": [],
   "source": [
    "import pandas as pd\n"
   ]
  },
  {
   "cell_type": "code",
   "execution_count": 2,
   "id": "408694cf",
   "metadata": {},
   "outputs": [],
   "source": [
    "\n",
    "data = [\n",
    "    {\"item_number\": 1, \"description\": \"Apple iPhone 14, 128GB, Midnight Black\", \"price\": 799.99, \"quantity\": 15},\n",
    "    {\"item_number\": 2, \"description\": \"Samsung Galaxy S22, 256GB, Phantom White\", \"price\": 749.50, \"quantity\": 10},\n",
    "    {\"item_number\": 3, \"description\": \"Google Pixel 7, 128GB, Obsidian\", \"price\": 699.00, \"quantity\": 8},\n",
    "    {\"item_number\": 4, \"description\": \"OnePlus 11, 16GB RAM, 256GB, Titan Black\", \"price\": 649.99, \"quantity\": 12},\n",
    "    {\"item_number\": 5, \"description\": \"Dell XPS 13, Intel i7, 16GB RAM, 512GB SSD\", \"price\": 1199.00, \"quantity\": 5},\n",
    "    {\"item_number\": 6, \"description\": \"Apple MacBook Air M2, 8GB RAM, 256GB SSD\", \"price\": 1049.99, \"quantity\": 6},\n",
    "    {\"item_number\": 7, \"description\": \"HP Spectre x360, 13.5 inch OLED, 16GB RAM\", \"price\": 1249.00, \"quantity\": 4},\n",
    "    {\"item_number\": 8, \"description\": \"Lenovo ThinkPad X1 Carbon Gen 10, 14 inch\", \"price\": 1399.00, \"quantity\": 3},\n",
    "    {\"item_number\": 9, \"description\": \"Bananas, 1kg pack, organically grown\", \"price\": 1.50, \"quantity\": 40},\n",
    "    {\"item_number\": 10, \"description\": \"Whole Wheat Bread, 400g, freshly baked\", \"price\": 2.49, \"quantity\": 25},\n",
    "    {\"item_number\": 11, \"description\": \"Organic Milk, 1L, low-fat\", \"price\": 3.20, \"quantity\": 30},\n",
    "    {\"item_number\": 12, \"description\": \"Free-range Eggs, pack of 12\", \"price\": 4.10, \"quantity\": 20},\n",
    "    {\"item_number\": 13, \"description\": \"Cheddar Cheese, 500g, aged 12 months\", \"price\": 6.80, \"quantity\": 10},\n",
    "    {\"item_number\": 14, \"description\": \"Broccoli, 500g, fresh and organic\", \"price\": 2.30, \"quantity\": 18},\n",
    "    {\"item_number\": 15, \"description\": \"Red Apples, 1kg, imported from Washington\", \"price\": 3.10, \"quantity\": 35},\n",
    "    {\"item_number\": 16, \"description\": \"Samsung Galaxy Tab S8, 11-inch, 128GB\", \"price\": 649.99, \"quantity\": 7},\n",
    "    {\"item_number\": 17, \"description\": \"Asus ROG Zephyrus, 16GB RAM, RTX 3060\", \"price\": 1499.99, \"quantity\": 2},\n",
    "    {\"item_number\": 18, \"description\": \"Potatoes, 2kg, locally sourced\", \"price\": 3.99, \"quantity\": 22},\n",
    "    {\"item_number\": 19, \"description\": \"Nescafe Classic Coffee, 200g jar\", \"price\": 5.75, \"quantity\": 13},\n",
    "    {\"item_number\": 20, \"description\": \"Orange Juice, 1L, no added sugar\", \"price\": 3.40, \"quantity\": 16},\n",
    "]\n",
    "\n",
    "df = pd.DataFrame(data)\n",
    "# df.to_csv(\"demo_items.csv\", index=False)\n"
   ]
  },
  {
   "cell_type": "code",
   "execution_count": null,
   "id": "cfcc9037",
   "metadata": {},
   "outputs": [],
   "source": []
  }
 ],
 "metadata": {
  "kernelspec": {
   "display_name": ".venv",
   "language": "python",
   "name": "python3"
  },
  "language_info": {
   "codemirror_mode": {
    "name": "ipython",
    "version": 3
   },
   "file_extension": ".py",
   "mimetype": "text/x-python",
   "name": "python",
   "nbconvert_exporter": "python",
   "pygments_lexer": "ipython3",
   "version": "3.10.0"
  }
 },
 "nbformat": 4,
 "nbformat_minor": 5
}
