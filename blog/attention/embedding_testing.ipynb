{
 "cells": [
  {
   "cell_type": "code",
   "execution_count": 179,
   "metadata": {},
   "outputs": [],
   "source": [
    "import torch\n",
    "import torch.nn as nn\n",
    "import torch.nn.functional as F\n",
    "import math\n",
    "import numpy as np\n",
    "import pandas as pd\n",
    "\n",
    "from sktime.transformations.series.date import DateTimeFeatures"
   ]
  },
  {
   "cell_type": "code",
   "execution_count": 4,
   "metadata": {},
   "outputs": [],
   "source": [
    "class FixedEmbedding(nn.Module):\n",
    "    def __init__(self, c_in, d_model):\n",
    "        super(FixedEmbedding, self).__init__()\n",
    "\n",
    "        w = torch.zeros(c_in, d_model).float()\n",
    "        w.require_grad = False\n",
    "\n",
    "        position = torch.arange(0, c_in).float().unsqueeze(1)\n",
    "        div_term = (torch.arange(0, d_model, 2).float() * -(math.log(10000.0) / d_model)).exp()\n",
    "\n",
    "        w[:, 0::2] = torch.sin(position * div_term)\n",
    "        w[:, 1::2] = torch.cos(position * div_term)\n",
    "\n",
    "        self.emb = nn.Embedding(c_in, d_model)\n",
    "        self.emb.weight = nn.Parameter(w, requires_grad=False)\n",
    "\n",
    "    def forward(self, x):\n",
    "        return self.emb(x).detach()"
   ]
  },
  {
   "cell_type": "code",
   "execution_count": 70,
   "metadata": {},
   "outputs": [],
   "source": [
    "w = torch.zeros(C_IN, D_MODEL).float()\n",
    "w.require_grad = False\n",
    "\n",
    "position = torch.arange(0, C_IN).float().unsqueeze(1)\n",
    "div_term = (torch.arange(0, D_MODEL, 2).float() * -(math.log(10000.0) / D_MODEL)).exp()\n",
    "\n",
    "w[:, 0::2] = torch.sin(position * div_term)[:w[:, 0::2].shape[0],:w[:, 0::2].shape[1]]\n",
    "w[:, 1::2] = torch.cos(position * div_term)[:w[:, 1::2].shape[0],:w[:, 1::2].shape[1]]\n",
    "\n",
    "# emb = nn.Embedding(C_IN, D_MODEL)\n",
    "# emb.weight = nn.Parameter(w, requires_grad=False)"
   ]
  },
  {
   "cell_type": "code",
   "execution_count": 73,
   "metadata": {},
   "outputs": [],
   "source": [
    "conv_layer = nn.Conv1d(in_channels=1, out_channels=1, kernel_size=1)"
   ]
  },
  {
   "cell_type": "code",
   "execution_count": 78,
   "metadata": {},
   "outputs": [
    {
     "data": {
      "text/plain": [
       "tensor([[0.3960, 0.3152, 0.2343, 0.1534]], grad_fn=<SqueezeBackward1>)"
      ]
     },
     "execution_count": 78,
     "metadata": {},
     "output_type": "execute_result"
    }
   ],
   "source": [
    "tst_input = torch.tensor([1,2,3,4]).float().reshape((1,-1))\n",
    "\n",
    "conv_layer(tst_input)"
   ]
  },
  {
   "cell_type": "code",
   "execution_count": 79,
   "metadata": {},
   "outputs": [
    {
     "data": {
      "text/plain": [
       "(1,)"
      ]
     },
     "execution_count": 79,
     "metadata": {},
     "output_type": "execute_result"
    }
   ],
   "source": [
    "conv_layer.kernel_size"
   ]
  },
  {
   "cell_type": "code",
   "execution_count": 22,
   "metadata": {},
   "outputs": [
    {
     "data": {
      "text/plain": [
       "tensor([[ 0.4709,  0.6300,  0.7892],\n",
       "        [-2.1107, -3.2507, -4.3907]], grad_fn=<SqueezeBackward1>)"
      ]
     },
     "execution_count": 22,
     "metadata": {},
     "output_type": "execute_result"
    }
   ],
   "source": [
    "\n",
    "m = nn.Conv1d(in_channels=1, out_channels=2, kernel_size=3, stride=1, padding=0)\n",
    "input = torch.tensor([[1, 2, 3, 4, 5]], dtype=torch.float32)\n",
    "output = m(input)\n",
    "output"
   ]
  },
  {
   "cell_type": "code",
   "execution_count": 19,
   "metadata": {},
   "outputs": [
    {
     "data": {
      "text/plain": [
       "[[1.6338245868682861, 2.2841799557209015, 2.934535324573517],\n",
       " [1.7435266077518463, 2.3938819766044617, 3.044237345457077]]"
      ]
     },
     "execution_count": 19,
     "metadata": {},
     "output_type": "execute_result"
    }
   ],
   "source": [
    "input = np.array([[1, 2, 3, 4, 5],[1, 2, 3, 4, 5]])#.reshape(1,-1)\n",
    "kernel_filt = m.weight.detach().numpy()[0][0]\n",
    "kernel_bias =m.bias.detach().numpy()\n",
    "k_size=3\n",
    "out_lst = []\n",
    "for n_i,arry in enumerate(input):\n",
    "    temp_out = []\n",
    "    for i in range(len(arry)):\n",
    "        slc_lst = arry[i:i+k_size]\n",
    "        if len(slc_lst)==k_size:\n",
    "            temp_out.append(np.sum(slc_lst*kernel_filt)+kernel_bias[n_i])\n",
    "\n",
    "    out_lst.append(temp_out)\n",
    "    # break\n",
    "out_lst\n"
   ]
  },
  {
   "cell_type": "code",
   "execution_count": null,
   "metadata": {},
   "outputs": [],
   "source": [
    "class PositionalEmbedding(nn.Module):\n",
    "    def __init__(self, d_emb, max_len=5000):\n",
    "        super(PositionalEmbedding, self).__init__()\n",
    "        # Compute the positional encodings once in log space.\n",
    "        pe = torch.zeros(max_len, d_emb).float()\n",
    "        pe.require_grad = False\n",
    "\n",
    "        position = torch.arange(0, max_len).float().unsqueeze(1)\n",
    "        div_term = (torch.arange(0, d_emb, 2).float() * -(math.log(10000.0) / d_emb)).exp()\n",
    "\n",
    "        pe[:, 0::2] = torch.sin(position * div_term)[:pe[:, 0::2].shape[0],:pe[:, 0::2].shape[1]]\n",
    "        pe[:, 1::2] = torch.cos(position * div_term)[:pe[:, 1::2].shape[0],:pe[:, 1::2].shape[1]]\n",
    "\n",
    "        pe = pe.unsqueeze(0)\n",
    "        self.register_buffer('pe', pe)\n",
    "\n",
    "    def forward(self, x):\n",
    "        return self.pe[:, :x.size(2)]"
   ]
  },
  {
   "cell_type": "code",
   "execution_count": 64,
   "metadata": {},
   "outputs": [],
   "source": [
    "max_len = 2\n",
    "d_emb = 4\n",
    "\n",
    "pe = torch.zeros(max_len, d_emb).float()\n",
    "pe.require_grad = False\n",
    "\n",
    "position = torch.arange(0, max_len).float().unsqueeze(1)\n",
    "div_term = (torch.arange(0, d_emb, 2).float() * -(math.log(10000.0) / d_emb)).exp()\n",
    "\n",
    "pe[:, 0::2] = torch.sin(position * div_term)#[:pe[:, 0::2].shape[0],:pe[:, 0::2].shape[1]]\n",
    "pe[:, 1::2] = torch.cos(position * div_term)#[:pe[:, 1::2].shape[0],:pe[:, 1::2].shape[1]]\n",
    "\n",
    "# pe = pe.unsqueeze(0)"
   ]
  },
  {
   "cell_type": "code",
   "execution_count": 66,
   "metadata": {},
   "outputs": [
    {
     "data": {
      "text/plain": [
       "tensor([[0.0000, 0.8415],\n",
       "        [1.0000, 0.5403],\n",
       "        [0.0000, 0.0100],\n",
       "        [1.0000, 0.9999]])"
      ]
     },
     "execution_count": 66,
     "metadata": {},
     "output_type": "execute_result"
    }
   ],
   "source": [
    "pe.T"
   ]
  },
  {
   "cell_type": "code",
   "execution_count": 68,
   "metadata": {},
   "outputs": [
    {
     "name": "stdout",
     "output_type": "stream",
     "text": [
      "tensor(0.8415)\n",
      "tensor(0.9999)\n",
      "tensor(1.0000e-04)\n",
      "tensor(1.)\n"
     ]
    }
   ],
   "source": [
    "print(torch.sin(torch.tensor(1)))\n",
    "print(torch.cos(torch.tensor(1/(10**2))))\n",
    "print(torch.sin(torch.tensor(1/10**4)))\n",
    "print(torch.cos(torch.tensor(1/10**6)))"
   ]
  },
  {
   "cell_type": "code",
   "execution_count": 2,
   "metadata": {},
   "outputs": [],
   "source": [
    "\n",
    "\n",
    "seq_len = 2\n",
    "d_emb = 4\n",
    "POS_EMB = torch.zeros(d_emb, seq_len).float()\n",
    "POS = torch.arange(0, seq_len).repeat(d_emb,1)\n",
    "DIV = 10**(4*torch.arange(0, d_emb).reshape(-1,1).repeat(1,seq_len)*2/d_emb)\n",
    "\n",
    "POS_EMB[0::2, :] = torch.sin(POS/DIV)[0::2, :]\n",
    "POS_EMB[1::2, :] = torch.cos(POS/DIV)[1::2, :]"
   ]
  },
  {
   "cell_type": "code",
   "execution_count": 5,
   "metadata": {},
   "outputs": [
    {
     "data": {
      "text/plain": [
       "tensor([[0.0000e+00, 8.4147e-01],\n",
       "        [1.0000e+00, 9.9995e-01],\n",
       "        [0.0000e+00, 1.0000e-04],\n",
       "        [1.0000e+00, 1.0000e+00]])"
      ]
     },
     "execution_count": 5,
     "metadata": {},
     "output_type": "execute_result"
    }
   ],
   "source": [
    "POS_EMB"
   ]
  },
  {
   "cell_type": "code",
   "execution_count": 4,
   "metadata": {},
   "outputs": [],
   "source": [
    "class FixedEmbedding(nn.Module):\n",
    "    def __init__(self, c_in, d_model):\n",
    "        super(FixedEmbedding, self).__init__()\n",
    "\n",
    "        w = torch.zeros(c_in, d_model).float()\n",
    "        w.require_grad = False\n",
    "\n",
    "        position = torch.arange(0, c_in).float().unsqueeze(1)\n",
    "        div_term = (torch.arange(0, d_model, 2).float() * -(math.log(10000.0) / d_model)).exp()\n",
    "\n",
    "        w[:, 0::2] = torch.sin(position * div_term)\n",
    "        w[:, 1::2] = torch.cos(position * div_term)\n",
    "\n",
    "        self.emb = nn.Embedding(c_in, d_model)\n",
    "        self.emb.weight = nn.Parameter(w, requires_grad=False)\n",
    "\n",
    "    def forward(self, x):\n",
    "        return self.emb(x).detach()\n",
    "\n",
    "class TemporalEmbedding(nn.Module):\n",
    "    def __init__(self, d_model, embed_type='fixed', freq='h'):\n",
    "        super(TemporalEmbedding, self).__init__()\n",
    "\n",
    "        minute_size = 4; hour_size = 24\n",
    "        weekday_size = 7; day_size = 32; month_size = 13\n",
    "\n",
    "        Embed = FixedEmbedding if embed_type=='fixed' else nn.Embedding\n",
    "        if freq=='t':\n",
    "            self.minute_embed = Embed(minute_size, d_model)\n",
    "        self.hour_embed = Embed(hour_size, d_model)\n",
    "        self.weekday_embed = Embed(weekday_size, d_model)\n",
    "        self.day_embed = Embed(day_size, d_model)\n",
    "        self.month_embed = Embed(month_size, d_model)\n",
    "    \n",
    "    def forward(self, x):\n",
    "        x = x.long()\n",
    "        \n",
    "        minute_x = self.minute_embed(x[:,:,4]) if hasattr(self, 'minute_embed') else 0.\n",
    "        hour_x = self.hour_embed(x[:,:,3])\n",
    "        weekday_x = self.weekday_embed(x[:,:,2])\n",
    "        day_x = self.day_embed(x[:,:,1])\n",
    "        month_x = self.month_embed(x[:,:,0])\n",
    "        \n",
    "        return hour_x + weekday_x + day_x + month_x + minute_x"
   ]
  },
  {
   "cell_type": "code",
   "execution_count": null,
   "metadata": {},
   "outputs": [],
   "source": [
    "D_MODEL=4"
   ]
  },
  {
   "cell_type": "code",
   "execution_count": 8,
   "metadata": {},
   "outputs": [
    {
     "data": {
      "text/plain": [
       "pandas._libs.tslibs.offsets.YearEnd"
      ]
     },
     "execution_count": 8,
     "metadata": {},
     "output_type": "execute_result"
    }
   ],
   "source": [
    "pd.tseries.offsets.YearEnd"
   ]
  },
  {
   "cell_type": "code",
   "execution_count": 9,
   "metadata": {},
   "outputs": [
    {
     "data": {
      "text/plain": [
       "<Hour>"
      ]
     },
     "execution_count": 9,
     "metadata": {},
     "output_type": "execute_result"
    }
   ],
   "source": [
    "pd.tseries.frequencies.to_offset('h')"
   ]
  },
  {
   "cell_type": "code",
   "execution_count": 11,
   "metadata": {},
   "outputs": [
    {
     "data": {
      "text/plain": [
       "0"
      ]
     },
     "execution_count": 11,
     "metadata": {},
     "output_type": "execute_result"
    }
   ],
   "source": [
    "10//15"
   ]
  },
  {
   "cell_type": "code",
   "execution_count": 14,
   "metadata": {},
   "outputs": [
    {
     "data": {
      "text/plain": [
       "array([[1],\n",
       "       [2]])"
      ]
     },
     "execution_count": 14,
     "metadata": {},
     "output_type": "execute_result"
    }
   ],
   "source": [
    "np.vstack([1,2,])"
   ]
  },
  {
   "cell_type": "code",
   "execution_count": 15,
   "metadata": {},
   "outputs": [],
   "source": [
    "class TimeFeature:\n",
    "    def __init__(self):\n",
    "        pass\n",
    "\n",
    "    def __call__(self, index: pd.DatetimeIndex) -> np.ndarray:\n",
    "        pass\n",
    "\n",
    "    def __repr__(self):\n",
    "        return self.__class__.__name__ + \"()\"\n",
    "\n",
    "class SecondOfMinute(TimeFeature):\n",
    "    \"\"\"Minute of hour encoded as value between [-0.5, 0.5]\"\"\"\n",
    "    def __call__(self, index: pd.DatetimeIndex) -> np.ndarray:\n",
    "        return index.second / 59.0 - 0.5\n",
    "\n",
    "class MinuteOfHour(TimeFeature):\n",
    "    \"\"\"Minute of hour encoded as value between [-0.5, 0.5]\"\"\"\n",
    "    def __call__(self, index: pd.DatetimeIndex) -> np.ndarray:\n",
    "        return index.minute / 59.0 - 0.5\n",
    "\n",
    "class HourOfDay(TimeFeature):\n",
    "    \"\"\"Hour of day encoded as value between [-0.5, 0.5]\"\"\"\n",
    "    def __call__(self, index: pd.DatetimeIndex) -> np.ndarray:\n",
    "        return index.hour / 23.0 - 0.5\n",
    "\n",
    "class DayOfWeek(TimeFeature):\n",
    "    \"\"\"Hour of day encoded as value between [-0.5, 0.5]\"\"\"\n",
    "    def __call__(self, index: pd.DatetimeIndex) -> np.ndarray:\n",
    "        return index.dayofweek / 6.0 - 0.5\n",
    "\n",
    "class DayOfMonth(TimeFeature):\n",
    "    \"\"\"Day of month encoded as value between [-0.5, 0.5]\"\"\"\n",
    "    def __call__(self, index: pd.DatetimeIndex) -> np.ndarray:\n",
    "        return (index.day - 1) / 30.0 - 0.5\n",
    "\n",
    "class DayOfYear(TimeFeature):\n",
    "    \"\"\"Day of year encoded as value between [-0.5, 0.5]\"\"\"\n",
    "    def __call__(self, index: pd.DatetimeIndex) -> np.ndarray:\n",
    "        return (index.dayofyear - 1) / 365.0 - 0.5\n",
    "\n",
    "class MonthOfYear(TimeFeature):\n",
    "    \"\"\"Month of year encoded as value between [-0.5, 0.5]\"\"\"\n",
    "    def __call__(self, index: pd.DatetimeIndex) -> np.ndarray:\n",
    "        return (index.month - 1) / 11.0 - 0.5\n",
    "\n",
    "class WeekOfYear(TimeFeature):\n",
    "    \"\"\"Week of year encoded as value between [-0.5, 0.5]\"\"\"\n",
    "    def __call__(self, index: pd.DatetimeIndex) -> np.ndarray:\n",
    "        return (index.week - 1) / 52.0 - 0.5"
   ]
  },
  {
   "cell_type": "code",
   "execution_count": 20,
   "metadata": {},
   "outputs": [
    {
     "data": {
      "text/plain": [
       "-0.17307692307692307"
      ]
     },
     "execution_count": 20,
     "metadata": {},
     "output_type": "execute_result"
    }
   ],
   "source": [
    "test_dt = pd.to_datetime('2024-05-01')\n",
    "chk = WeekOfYear()\n",
    "chk(test_dt)"
   ]
  },
  {
   "cell_type": "code",
   "execution_count": 21,
   "metadata": {},
   "outputs": [
    {
     "data": {
      "text/plain": [
       "18"
      ]
     },
     "execution_count": 21,
     "metadata": {},
     "output_type": "execute_result"
    }
   ],
   "source": [
    "test_dt.week"
   ]
  },
  {
   "cell_type": "code",
   "execution_count": 35,
   "metadata": {},
   "outputs": [],
   "source": [
    "test_embed = nn.Embedding(10,3, padding_idx=0)\n",
    "\n",
    "test_input = torch.tensor([[[1,2,0,0],[2,3,4,4]]])\n",
    "\n",
    "\n",
    "embed_out = test_embed(test_input)\n"
   ]
  },
  {
   "cell_type": "code",
   "execution_count": 37,
   "metadata": {},
   "outputs": [
    {
     "data": {
      "text/plain": [
       "torch.Size([10, 3])"
      ]
     },
     "execution_count": 37,
     "metadata": {},
     "output_type": "execute_result"
    }
   ],
   "source": [
    "test_embed.weight.shape"
   ]
  },
  {
   "cell_type": "code",
   "execution_count": 199,
   "metadata": {},
   "outputs": [
    {
     "name": "stderr",
     "output_type": "stream",
     "text": [
      "c:\\Users\\Sanjaya Elvitigala\\Desktop\\my_repos\\hands_on_experiments_repo\\.venv\\lib\\site-packages\\sktime\\transformations\\series\\date.py:448: FutureWarning: The behavior of Series.replace (and DataFrame.replace) with CategoricalDtype is deprecated. In a future version, replace will only be used for cases that preserve the categories. To change the categories, use ser.cat.rename_categories instead.\n",
      "  DUMMIES = DUMMIES.replace(\n",
      "c:\\Users\\Sanjaya Elvitigala\\Desktop\\my_repos\\hands_on_experiments_repo\\.venv\\lib\\site-packages\\sktime\\transformations\\series\\date.py:448: FutureWarning: The behavior of Series.replace (and DataFrame.replace) with CategoricalDtype is deprecated. In a future version, replace will only be used for cases that preserve the categories. To change the categories, use ser.cat.rename_categories instead.\n",
      "  DUMMIES = DUMMIES.replace(\n"
     ]
    },
    {
     "data": {
      "text/plain": [
       "(2, 3)"
      ]
     },
     "execution_count": 199,
     "metadata": {},
     "output_type": "execute_result"
    }
   ],
   "source": [
    "dt_arry = np.array([pd.to_datetime('2024-01-01'), pd.to_datetime('2024-01-02')])\n",
    "\n",
    "seq_out = 1\n",
    "seq_in =2\n",
    "\n",
    "stay_date = pd.to_datetime('2024-10-30')\n",
    "leads= np.arange(start=seq_out, stop=seq_out+seq_in)\n",
    "\n",
    "dt_category = {'month':['month_of_year','month_of_quarter','quarter_of_year'],\n",
    "               'day': ['day_of_year','day_of_week','day_of_quarter','week_of_year','week_of_month','week_of_quarter']}\n",
    "booking_dates = stay_date-pd.to_timedelta(leads, unit='days')\n",
    "dt_feats = DateTimeFeatures(feature_scope='comprehensive', ts_freq='D').fit_transform(pd.DataFrame(index=booking_dates.sort_values()))\n",
    "\n",
    "dt_feats[dt_category['month']].to_numpy().shape"
   ]
  },
  {
   "cell_type": "code",
   "execution_count": 292,
   "metadata": {},
   "outputs": [
    {
     "data": {
      "text/plain": [
       "Timestamp('2024-10-28 00:00:00')"
      ]
     },
     "execution_count": 292,
     "metadata": {},
     "output_type": "execute_result"
    }
   ],
   "source": [
    "booking_dates.min()"
   ]
  },
  {
   "cell_type": "code",
   "execution_count": 250,
   "metadata": {},
   "outputs": [
    {
     "data": {
      "text/html": [
       "<div>\n",
       "<style scoped>\n",
       "    .dataframe tbody tr th:only-of-type {\n",
       "        vertical-align: middle;\n",
       "    }\n",
       "\n",
       "    .dataframe tbody tr th {\n",
       "        vertical-align: top;\n",
       "    }\n",
       "\n",
       "    .dataframe thead th {\n",
       "        text-align: right;\n",
       "    }\n",
       "</style>\n",
       "<table border=\"1\" class=\"dataframe\">\n",
       "  <thead>\n",
       "    <tr style=\"text-align: right;\">\n",
       "      <th></th>\n",
       "      <th>month_of_year</th>\n",
       "      <th>month_of_quarter</th>\n",
       "      <th>quarter_of_year</th>\n",
       "    </tr>\n",
       "  </thead>\n",
       "  <tbody>\n",
       "    <tr>\n",
       "      <th>2024-10-28</th>\n",
       "      <td>10</td>\n",
       "      <td>1</td>\n",
       "      <td>4</td>\n",
       "    </tr>\n",
       "    <tr>\n",
       "      <th>2024-10-29</th>\n",
       "      <td>10</td>\n",
       "      <td>1</td>\n",
       "      <td>4</td>\n",
       "    </tr>\n",
       "  </tbody>\n",
       "</table>\n",
       "</div>"
      ],
      "text/plain": [
       "            month_of_year  month_of_quarter  quarter_of_year\n",
       "2024-10-28             10                 1                4\n",
       "2024-10-29             10                 1                4"
      ]
     },
     "execution_count": 250,
     "metadata": {},
     "output_type": "execute_result"
    }
   ],
   "source": [
    "dt_feats[dt_category['month']]"
   ]
  },
  {
   "cell_type": "code",
   "execution_count": 258,
   "metadata": {},
   "outputs": [
    {
     "data": {
      "text/plain": [
       "array([[10,  1,  4],\n",
       "       [10,  1,  4]], dtype=int64)"
      ]
     },
     "execution_count": 258,
     "metadata": {},
     "output_type": "execute_result"
    }
   ],
   "source": [
    "dt_feats[dt_category['month']].to_numpy().reshape(2,-1)"
   ]
  },
  {
   "cell_type": "code",
   "execution_count": 213,
   "metadata": {},
   "outputs": [
    {
     "name": "stderr",
     "output_type": "stream",
     "text": [
      "c:\\Users\\Sanjaya Elvitigala\\Desktop\\my_repos\\hands_on_experiments_repo\\.venv\\lib\\site-packages\\sktime\\transformations\\series\\date.py:448: FutureWarning: The behavior of Series.replace (and DataFrame.replace) with CategoricalDtype is deprecated. In a future version, replace will only be used for cases that preserve the categories. To change the categories, use ser.cat.rename_categories instead.\n",
      "  DUMMIES = DUMMIES.replace(\n",
      "c:\\Users\\Sanjaya Elvitigala\\Desktop\\my_repos\\hands_on_experiments_repo\\.venv\\lib\\site-packages\\sktime\\transformations\\series\\date.py:448: FutureWarning: The behavior of Series.replace (and DataFrame.replace) with CategoricalDtype is deprecated. In a future version, replace will only be used for cases that preserve the categories. To change the categories, use ser.cat.rename_categories instead.\n",
      "  DUMMIES = DUMMIES.replace(\n",
      "c:\\Users\\Sanjaya Elvitigala\\Desktop\\my_repos\\hands_on_experiments_repo\\.venv\\lib\\site-packages\\sktime\\transformations\\series\\date.py:448: FutureWarning: The behavior of Series.replace (and DataFrame.replace) with CategoricalDtype is deprecated. In a future version, replace will only be used for cases that preserve the categories. To change the categories, use ser.cat.rename_categories instead.\n",
      "  DUMMIES = DUMMIES.replace(\n",
      "c:\\Users\\Sanjaya Elvitigala\\Desktop\\my_repos\\hands_on_experiments_repo\\.venv\\lib\\site-packages\\sktime\\transformations\\series\\date.py:448: FutureWarning: The behavior of Series.replace (and DataFrame.replace) with CategoricalDtype is deprecated. In a future version, replace will only be used for cases that preserve the categories. To change the categories, use ser.cat.rename_categories instead.\n",
      "  DUMMIES = DUMMIES.replace(\n",
      "c:\\Users\\Sanjaya Elvitigala\\Desktop\\my_repos\\hands_on_experiments_repo\\.venv\\lib\\site-packages\\sktime\\transformations\\series\\date.py:448: FutureWarning: The behavior of Series.replace (and DataFrame.replace) with CategoricalDtype is deprecated. In a future version, replace will only be used for cases that preserve the categories. To change the categories, use ser.cat.rename_categories instead.\n",
      "  DUMMIES = DUMMIES.replace(\n",
      "c:\\Users\\Sanjaya Elvitigala\\Desktop\\my_repos\\hands_on_experiments_repo\\.venv\\lib\\site-packages\\sktime\\transformations\\series\\date.py:448: FutureWarning: The behavior of Series.replace (and DataFrame.replace) with CategoricalDtype is deprecated. In a future version, replace will only be used for cases that preserve the categories. To change the categories, use ser.cat.rename_categories instead.\n",
      "  DUMMIES = DUMMIES.replace(\n"
     ]
    }
   ],
   "source": [
    "def get_dates_vector(dates_arry: pd.DatetimeIndex, seq_in:int, seq_out:int, sub_dates_asc_order:bool=False):\n",
    "    dt_category = {'month':['month_of_year','month_of_quarter','quarter_of_year'],\n",
    "               'day': ['day_of_year','day_of_week','day_of_quarter','week_of_year','week_of_month','week_of_quarter']}\n",
    "    leads= np.arange(start=seq_out, stop=seq_out+seq_in)\n",
    "    month_out_arry = []\n",
    "    day_out_arry = []\n",
    "    for date in dates_arry:\n",
    "        booking_dates = date-pd.to_timedelta(leads, unit='days')\n",
    "        dt_feats = DateTimeFeatures(feature_scope='comprehensive', ts_freq='D').fit_transform(pd.DataFrame(index=booking_dates.sort_values()))\n",
    "        dt_feats = dt_feats.sort_index(ascending=sub_dates_asc_order)\n",
    "        month_out_arry.append(dt_feats[dt_category['month']].to_numpy())\n",
    "        day_out_arry.append(dt_feats[dt_category['day']].to_numpy())\n",
    "    \n",
    "    return np.array(month_out_arry), np.array(day_out_arry)\n",
    "        \n",
    "month_arry , day_arry = get_dates_vector(dates_arry=pd.to_datetime(['2024-01-01','2024-01-02','2024-01-03']), seq_in=5,seq_out=2)\n"
   ]
  },
  {
   "cell_type": "code",
   "execution_count": 321,
   "metadata": {},
   "outputs": [
    {
     "data": {
      "text/plain": [
       "(2, 2, 3)"
      ]
     },
     "execution_count": 321,
     "metadata": {},
     "output_type": "execute_result"
    }
   ],
   "source": [
    "month_arry.shape"
   ]
  },
  {
   "cell_type": "code",
   "execution_count": 322,
   "metadata": {},
   "outputs": [
    {
     "data": {
      "text/plain": [
       "torch.Size([2, 2, 2])"
      ]
     },
     "execution_count": 322,
     "metadata": {},
     "output_type": "execute_result"
    }
   ],
   "source": [
    "W_tst = torch.randn(3,2, requires_grad=True)\n",
    "\n",
    "torch.tensor(month_arry).float().matmul(W_tst).shape"
   ]
  },
  {
   "cell_type": "code",
   "execution_count": 304,
   "metadata": {},
   "outputs": [
    {
     "name": "stderr",
     "output_type": "stream",
     "text": [
      "c:\\Users\\Sanjaya Elvitigala\\Desktop\\my_repos\\hands_on_experiments_repo\\.venv\\lib\\site-packages\\sktime\\transformations\\series\\date.py:448: FutureWarning: The behavior of Series.replace (and DataFrame.replace) with CategoricalDtype is deprecated. In a future version, replace will only be used for cases that preserve the categories. To change the categories, use ser.cat.rename_categories instead.\n",
      "  DUMMIES = DUMMIES.replace(\n",
      "c:\\Users\\Sanjaya Elvitigala\\Desktop\\my_repos\\hands_on_experiments_repo\\.venv\\lib\\site-packages\\sktime\\transformations\\series\\date.py:448: FutureWarning: The behavior of Series.replace (and DataFrame.replace) with CategoricalDtype is deprecated. In a future version, replace will only be used for cases that preserve the categories. To change the categories, use ser.cat.rename_categories instead.\n",
      "  DUMMIES = DUMMIES.replace(\n"
     ]
    }
   ],
   "source": [
    "DT_FEATS = DateTimeFeatures(feature_scope='comprehensive', ts_freq='D').fit_transform(pd.DataFrame(index=pd.date_range(start='2015-01-01', end='2024-04-12')))\n",
    "DT_FEATS= DT_FEATS.reset_index().rename(columns={'index':'date'})\n",
    "DT_FEATS['date'] = pd.to_datetime(DT_FEATS['date'])\n",
    "\n",
    "def get_dates_vector(dates_arry: pd.DatetimeIndex, seq_in:int, seq_out:int, sub_dates_asc_order:bool=False):\n",
    "    dt_category = {'month':['month_of_year','month_of_quarter','quarter_of_year'],\n",
    "               'day': ['day_of_year','day_of_week','day_of_quarter','week_of_year','week_of_month','week_of_quarter']}\n",
    "    leads= np.arange(start=seq_out, stop=seq_out+seq_in)\n",
    "    month_out_arry = []\n",
    "    day_out_arry = []\n",
    "    for date in dates_arry:\n",
    "        booking_dates = date-pd.to_timedelta(leads, unit='days')\n",
    "        filt_dt_feats = DT_FEATS[(DT_FEATS.date>=booking_dates.min())&(DT_FEATS.date<=booking_dates.max())].sort_values('date', ascending=sub_dates_asc_order)\n",
    "        month_out_arry.append(filt_dt_feats[dt_category['month']].to_numpy())\n",
    "        day_out_arry.append(filt_dt_feats[dt_category['day']].to_numpy())\n",
    "    \n",
    "    return np.array(month_out_arry), np.array(day_out_arry)"
   ]
  },
  {
   "cell_type": "code",
   "execution_count": 323,
   "metadata": {},
   "outputs": [
    {
     "data": {
      "text/plain": [
       "(2, 2, 6)"
      ]
     },
     "execution_count": 323,
     "metadata": {},
     "output_type": "execute_result"
    }
   ],
   "source": [
    "# get_dates_vector(dates_arry=pd.date_range(start='2024-01-01',end='2024-01-02', freq='1D'), seq_in=2, seq_out=2)\n",
    "\n",
    "dates_arry = pd.date_range(start='2024-01-01',end='2024-01-02', freq='1D')\n",
    "month_arry, day_arry = get_dates_vector(dates_arry=dates_arry, seq_in=2, seq_out=2)\n",
    "day_arry.shape"
   ]
  },
  {
   "cell_type": "code",
   "execution_count": null,
   "metadata": {},
   "outputs": [],
   "source": []
  },
  {
   "cell_type": "code",
   "execution_count": 302,
   "metadata": {},
   "outputs": [
    {
     "data": {
      "text/plain": [
       "(2, 2, 3)"
      ]
     },
     "execution_count": 302,
     "metadata": {},
     "output_type": "execute_result"
    }
   ],
   "source": [
    "np.array(month_out_arry).shape"
   ]
  }
 ],
 "metadata": {
  "kernelspec": {
   "display_name": ".venv",
   "language": "python",
   "name": "python3"
  },
  "language_info": {
   "codemirror_mode": {
    "name": "ipython",
    "version": 3
   },
   "file_extension": ".py",
   "mimetype": "text/x-python",
   "name": "python",
   "nbconvert_exporter": "python",
   "pygments_lexer": "ipython3",
   "version": "3.10.0"
  }
 },
 "nbformat": 4,
 "nbformat_minor": 2
}
