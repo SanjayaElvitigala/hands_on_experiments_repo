{
 "cells": [
  {
   "cell_type": "code",
   "execution_count": 22,
   "metadata": {},
   "outputs": [],
   "source": [
    "import spacy\n",
    "import nltk\n",
    "from nltk.tokenize import sent_tokenize"
   ]
  },
  {
   "cell_type": "code",
   "execution_count": 15,
   "metadata": {},
   "outputs": [],
   "source": [
    "text = \"\"\"The interim financial statements of the company have been prepared in accordance with the Sri Lanka Accounting Standards (LKAS/SLFRS). The Company has used the same accounting policies and method of computing described in the Audited Financial statements of the company for 2022/23 in the preparation of these interim financial statements.These Financial Statements are in accordance with Sri Lanka Accounting Standard LKAS 34, Interim Financial Reporting and provisions of the Companies Act No 07 of 2007.Further they provide the information as required in terms of rule 7.4 of the Colombo Stock Exchange.\"\"\""
   ]
  },
  {
   "cell_type": "code",
   "execution_count": 16,
   "metadata": {},
   "outputs": [],
   "source": [
    "nlp_tokenizer = spacy.load('en_core_web_sm')\n",
    "\n",
    "doc = nlp_tokenizer(text=text)"
   ]
  },
  {
   "cell_type": "code",
   "execution_count": 17,
   "metadata": {},
   "outputs": [
    {
     "name": "stdout",
     "output_type": "stream",
     "text": [
      "The interim financial statements of the company have been prepared in accordance with the Sri Lanka Accounting Standards (LKAS/SLFRS).\n",
      "The Company has used the same accounting policies and method of computing described in the Audited Financial statements of the company for 2022/23 in the preparation of these interim financial statements.\n",
      "These Financial Statements are in accordance with Sri Lanka Accounting Standard LKAS 34, Interim Financial Reporting and provisions of the Companies Act No 07 of 2007.Further they provide the information as required in terms of rule 7.4 of the Colombo Stock Exchange.\n"
     ]
    }
   ],
   "source": [
    "for sentence in doc.sents:\n",
    "    print(sentence)"
   ]
  },
  {
   "cell_type": "code",
   "execution_count": 24,
   "metadata": {},
   "outputs": [
    {
     "name": "stderr",
     "output_type": "stream",
     "text": [
      "[nltk_data] Downloading package punkt to\n",
      "[nltk_data]     C:\\Users\\sanja\\AppData\\Roaming\\nltk_data...\n",
      "[nltk_data]   Unzipping tokenizers\\punkt.zip.\n"
     ]
    },
    {
     "data": {
      "text/plain": [
       "True"
      ]
     },
     "execution_count": 24,
     "metadata": {},
     "output_type": "execute_result"
    }
   ],
   "source": [
    "nltk.download('punkt')"
   ]
  },
  {
   "cell_type": "code",
   "execution_count": 25,
   "metadata": {},
   "outputs": [
    {
     "data": {
      "text/plain": [
       "['The interim financial statements of the company have been prepared in accordance with the Sri Lanka Accounting Standards (LKAS/SLFRS).',\n",
       " 'The Company has used the same accounting policies and method of computing described in the Audited Financial statements of the company for 2022/23 in the preparation of these interim financial statements.These Financial Statements are in accordance with Sri Lanka Accounting Standard LKAS 34, Interim Financial Reporting and provisions of the Companies Act No 07 of 2007.Further they provide the information as required in terms of rule 7.4 of the Colombo Stock Exchange.']"
      ]
     },
     "execution_count": 25,
     "metadata": {},
     "output_type": "execute_result"
    }
   ],
   "source": [
    "sent_tokenize(text=text)"
   ]
  },
  {
   "cell_type": "code",
   "execution_count": null,
   "metadata": {},
   "outputs": [],
   "source": []
  }
 ],
 "metadata": {
  "kernelspec": {
   "display_name": ".venv",
   "language": "python",
   "name": "python3"
  },
  "language_info": {
   "codemirror_mode": {
    "name": "ipython",
    "version": 3
   },
   "file_extension": ".py",
   "mimetype": "text/x-python",
   "name": "python",
   "nbconvert_exporter": "python",
   "pygments_lexer": "ipython3",
   "version": "3.10.0"
  }
 },
 "nbformat": 4,
 "nbformat_minor": 2
}
