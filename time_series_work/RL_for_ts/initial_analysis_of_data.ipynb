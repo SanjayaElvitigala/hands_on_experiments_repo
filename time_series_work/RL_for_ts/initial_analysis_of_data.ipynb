{
 "cells": [
  {
   "cell_type": "code",
   "execution_count": 24,
   "metadata": {},
   "outputs": [],
   "source": [
    "import pandas as pd\n",
    "import calendar\n",
    "from time import strptime"
   ]
  },
  {
   "cell_type": "code",
   "execution_count": 10,
   "metadata": {},
   "outputs": [
    {
     "data": {
      "text/plain": [
       "119390"
      ]
     },
     "execution_count": 10,
     "metadata": {},
     "output_type": "execute_result"
    }
   ],
   "source": [
    "main_bookings_df = pd.read_csv('hotel_bookings.csv')\n",
    "len(main_bookings_df)"
   ]
  },
  {
   "cell_type": "code",
   "execution_count": 7,
   "metadata": {},
   "outputs": [
    {
     "data": {
      "text/plain": [
       "hotel                                  0\n",
       "is_canceled                            0\n",
       "lead_time                              0\n",
       "arrival_date_year                      0\n",
       "arrival_date_month                     0\n",
       "arrival_date_week_number               0\n",
       "arrival_date_day_of_month              0\n",
       "stays_in_weekend_nights                0\n",
       "stays_in_week_nights                   0\n",
       "adults                                 0\n",
       "children                               4\n",
       "babies                                 0\n",
       "meal                                   0\n",
       "country                              488\n",
       "market_segment                         0\n",
       "distribution_channel                   0\n",
       "is_repeated_guest                      0\n",
       "previous_cancellations                 0\n",
       "previous_bookings_not_canceled         0\n",
       "reserved_room_type                     0\n",
       "assigned_room_type                     0\n",
       "booking_changes                        0\n",
       "deposit_type                           0\n",
       "agent                              16340\n",
       "company                           112593\n",
       "days_in_waiting_list                   0\n",
       "customer_type                          0\n",
       "adr                                    0\n",
       "required_car_parking_spaces            0\n",
       "total_of_special_requests              0\n",
       "reservation_status                     0\n",
       "reservation_status_date                0\n",
       "dtype: int64"
      ]
     },
     "execution_count": 7,
     "metadata": {},
     "output_type": "execute_result"
    }
   ],
   "source": [
    "main_bookings_df.isna().sum()"
   ]
  },
  {
   "cell_type": "code",
   "execution_count": 92,
   "metadata": {},
   "outputs": [],
   "source": [
    "# to get a rough estimate of room bookings, im going to assume there are only triple rooms and adults+children (not babies) are considered for total people\n",
    "approx_bookings = lambda total_people: total_people//3+ (0 if total_people%3==0 else 1)\n",
    "\n",
    "analysis_cpy_df = main_bookings_df.copy()\n",
    "analysis_cpy_df['arrival_date'] = pd.to_datetime(analysis_cpy_df.apply(lambda x:f\"{x.arrival_date_year}-{strptime(x.arrival_date_month,'%B').tm_mon:02}-{x.arrival_date_day_of_month}\", axis=1))\n",
    "analysis_cpy_df['bookings'] = analysis_cpy_df.apply(lambda x: approx_bookings(x.adults+x.children), axis=1)\n",
    "analysis_cpy_df['reservation_status_date_check'] = pd.to_datetime(analysis_cpy_df['arrival_date'])+pd.to_timedelta(analysis_cpy_df['stays_in_weekend_nights']+analysis_cpy_df['stays_in_week_nights'], unit='days')"
   ]
  },
  {
   "cell_type": "code",
   "execution_count": 137,
   "metadata": {},
   "outputs": [
    {
     "name": "stdout",
     "output_type": "stream",
     "text": [
      "Index(['hotel', 'arrival_date', 'adr', 'bookings', 'revenue'], dtype='object')\n",
      "['City Hotel' 'Resort Hotel']\n",
      "City Hotel\n",
      "\tactual num of records: 788\n",
      "\tneeded num of records: 793\n",
      "Resort Hotel\n",
      "\tactual num of records: 793\n",
      "\tneeded num of records: 793\n"
     ]
    },
    {
     "name": "stderr",
     "output_type": "stream",
     "text": [
      "C:\\Users\\sanja\\AppData\\Local\\Temp\\ipykernel_10284\\3573749260.py:10: SettingWithCopyWarning: \n",
      "A value is trying to be set on a copy of a slice from a DataFrame.\n",
      "Try using .loc[row_indexer,col_indexer] = value instead\n",
      "\n",
      "See the caveats in the documentation: https://pandas.pydata.org/pandas-docs/stable/user_guide/indexing.html#returning-a-view-versus-a-copy\n",
      "  final_df['revenue'] = final_df['adr']*final_df['bookings']\n"
     ]
    }
   ],
   "source": [
    "needed_columns = ['hotel', 'arrival_date', 'adr', 'bookings', 'revenue']\n",
    "\n",
    "#    CONDITIONS\n",
    "# filter rows where adults==0\n",
    "# filter out cancellations, for simplicity\n",
    "# check missing values after filtering out cancellations\n",
    "#  -there arent any missing values in the critical columns\n",
    "# check the date continuity considering max and min arrival dates hotelwise\n",
    "\n",
    "final_df = analysis_cpy_df[(analysis_cpy_df.is_canceled==0)&(analysis_cpy_df.adults>0)]\n",
    "final_df['revenue'] = final_df['adr']*final_df['bookings'] \n",
    "final_df = final_df[needed_columns].groupby(['hotel','arrival_date']).sum().reset_index()\n",
    "\n",
    "print(final_df.columns)\n",
    "print(final_df.hotel.unique())\n",
    "\n",
    "for h_type in final_df.hotel.unique():\n",
    "    print(h_type)\n",
    "    min_arrival_dt = final_df[final_df.hotel==h_type].arrival_date.min()\n",
    "    max_arrival_dt = final_df[final_df.hotel==h_type].arrival_date.max()\n",
    "    print('\\tactual num of records:', len(final_df[final_df.hotel==h_type]))\n",
    "    print('\\tneeded num of records:', len(pd.date_range(start=min_arrival_dt, end=max_arrival_dt, freq='1D')))\n",
    "\n",
    "final_df = final_df[final_df.hotel=='Resort Hotel'].drop('hotel',axis=1).reset_index(drop=True)"
   ]
  },
  {
   "cell_type": "code",
   "execution_count": 143,
   "metadata": {},
   "outputs": [],
   "source": [
    "# min_arrival_dt = final_df.arrival_date.min()\n",
    "# max_arrival_dt = final_df.arrival_date.max()\n",
    "# check_dates = pd.DataFrame(pd.date_range(start=min_arrival_dt, end=max_arrival_dt, freq='1D')).rename(columns={0:'arrival_date'})\n",
    "# check_dates['dummy_col'] =0"
   ]
  },
  {
   "cell_type": "code",
   "execution_count": 141,
   "metadata": {},
   "outputs": [],
   "source": []
  },
  {
   "cell_type": "code",
   "execution_count": null,
   "metadata": {},
   "outputs": [],
   "source": []
  }
 ],
 "metadata": {
  "kernelspec": {
   "display_name": ".venv",
   "language": "python",
   "name": "python3"
  },
  "language_info": {
   "codemirror_mode": {
    "name": "ipython",
    "version": 3
   },
   "file_extension": ".py",
   "mimetype": "text/x-python",
   "name": "python",
   "nbconvert_exporter": "python",
   "pygments_lexer": "ipython3",
   "version": "3.10.0"
  }
 },
 "nbformat": 4,
 "nbformat_minor": 2
}
