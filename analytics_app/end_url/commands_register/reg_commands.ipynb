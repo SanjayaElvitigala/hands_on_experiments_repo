{
 "cells": [
  {
   "cell_type": "code",
   "execution_count": 1,
   "metadata": {},
   "outputs": [],
   "source": [
    "import requests\n",
    "import yaml\n",
    "from dotenv import load_dotenv\n",
    "import os\n",
    "\n",
    "import discord\n",
    "from discord.ext import commands\n",
    "from discord import app_commands"
   ]
  },
  {
   "cell_type": "code",
   "execution_count": 2,
   "metadata": {},
   "outputs": [],
   "source": [
    "load_dotenv()\n",
    "TOKEN =  os.getenv(\"DISCORD_TOKEN\")\n",
    "APPLICATION_ID = os.getenv(\"DISCORD_APPLICATION_ID\")"
   ]
  },
  {
   "cell_type": "code",
   "execution_count": 4,
   "metadata": {},
   "outputs": [
    {
     "name": "stdout",
     "output_type": "stream",
     "text": [
      "Command last_month created: 200\n",
      "Command last_month_viz created: 200\n"
     ]
    }
   ],
   "source": [
    "URL = f\"https://discord.com/api/v10/applications/{APPLICATION_ID}/commands\"\n",
    "\n",
    "with open(\"discord_commands.yaml\", \"r\") as file:\n",
    "    yaml_content = file.read()\n",
    "\n",
    "commands = yaml.safe_load(yaml_content)\n",
    "headers = {\"Authorization\": f\"Bot {TOKEN}\", \"Content-Type\": \"application/json\"}\n",
    "\n",
    "# Send the POST request for each command\n",
    "for command in commands:\n",
    "    response = requests.post(URL, json=command, headers=headers)\n",
    "    command_name = command[\"name\"]\n",
    "    print(f\"Command {command_name} created: {response.status_code}\")"
   ]
  },
  {
   "cell_type": "code",
   "execution_count": null,
   "metadata": {},
   "outputs": [],
   "source": [
    "intents = discord.Intents.default()\n",
    "intents.message_content = True\n",
    "\n",
    "bot = commands.Bot(command_prefix='!', intents=intents)\n",
    "\n",
    "@bot.event\n",
    "async def on_ready():\n",
    "    print('Bot is running')\n",
    "    try:\n",
    "        synced = await bot.tree.sync()\n",
    "        print(f\"Synced {len(synced)} command(s)\")\n",
    "    except Exception as e:\n",
    "        print(e)\n",
    "\n",
    "@bot.tree.command(name='hello')\n",
    "async def hello(interaction:discord.Interaction):\n",
    "    await interaction.response.send_message(f\"Hey {interaction.user.mention}!\")\n",
    "\n",
    "bot.run(TOKEN)"
   ]
  }
 ],
 "metadata": {
  "kernelspec": {
   "display_name": ".venv",
   "language": "python",
   "name": "python3"
  },
  "language_info": {
   "codemirror_mode": {
    "name": "ipython",
    "version": 3
   },
   "file_extension": ".py",
   "mimetype": "text/x-python",
   "name": "python",
   "nbconvert_exporter": "python",
   "pygments_lexer": "ipython3",
   "version": "3.10.0"
  }
 },
 "nbformat": 4,
 "nbformat_minor": 2
}
