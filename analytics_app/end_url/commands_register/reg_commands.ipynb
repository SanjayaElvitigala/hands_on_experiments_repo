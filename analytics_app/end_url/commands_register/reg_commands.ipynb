{
 "cells": [
  {
   "cell_type": "code",
   "execution_count": null,
   "metadata": {},
   "outputs": [
    {
     "name": "stdout",
     "output_type": "stream",
     "text": [
      "Command last_month created: 401\n"
     ]
    }
   ],
   "source": [
    "import requests\n",
    "import yaml\n",
    "from dotenv import load_dotenv\n",
    "import os\n",
    "\n",
    "load_dotenv()\n",
    "TOKEN =  os.getenv(\"DISCORD_TOKEN\")\n",
    "APPLICATION_ID = os.getenv(\"DISCORD_APPLICATION_ID\")\n",
    "URL = f\"https://discord.com/api/v10/applications/{APPLICATION_ID}/commands\"\n",
    "\n",
    "\n",
    "with open(\"discord_commands.yaml\", \"r\") as file:\n",
    "    yaml_content = file.read()\n",
    "\n",
    "commands = yaml.safe_load(yaml_content)\n",
    "headers = {\"Authorization\": f\"Bot {TOKEN}\", \"Content-Type\": \"application/json\"}\n",
    "\n",
    "# Send the POST request for each command\n",
    "for command in commands:\n",
    "    response = requests.post(URL, json=command, headers=headers)\n",
    "    command_name = command[\"name\"]\n",
    "    print(f\"Command {command_name} created: {response.status_code}\")"
   ]
  },
  {
   "cell_type": "code",
   "execution_count": 10,
   "metadata": {},
   "outputs": [
    {
     "data": {
      "text/plain": [
       "[{'name': 'last_month', 'type': 1, 'description': 'last month expenditures!'}]"
      ]
     },
     "execution_count": 10,
     "metadata": {},
     "output_type": "execute_result"
    }
   ],
   "source": [
    "commands"
   ]
  },
  {
   "cell_type": "code",
   "execution_count": 6,
   "metadata": {},
   "outputs": [
    {
     "data": {
      "text/plain": [
       "<Response [401]>"
      ]
     },
     "execution_count": 6,
     "metadata": {},
     "output_type": "execute_result"
    }
   ],
   "source": [
    "requests.post(URL, json=command, headers=headers)"
   ]
  }
 ],
 "metadata": {
  "kernelspec": {
   "display_name": ".venv",
   "language": "python",
   "name": "python3"
  },
  "language_info": {
   "codemirror_mode": {
    "name": "ipython",
    "version": 3
   },
   "file_extension": ".py",
   "mimetype": "text/x-python",
   "name": "python",
   "nbconvert_exporter": "python",
   "pygments_lexer": "ipython3",
   "version": "3.10.0"
  }
 },
 "nbformat": 4,
 "nbformat_minor": 2
}
