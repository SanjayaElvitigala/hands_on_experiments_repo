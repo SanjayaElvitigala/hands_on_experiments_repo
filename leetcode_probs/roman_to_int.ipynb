{
 "cells": [
  {
   "cell_type": "code",
   "execution_count": 6,
   "metadata": {},
   "outputs": [],
   "source": [
    "import numpy as np\n",
    "from copy import copy\n"
   ]
  },
  {
   "cell_type": "code",
   "execution_count": 13,
   "metadata": {},
   "outputs": [],
   "source": [
    "def romanToInt( s: str) -> int:\n",
    "    mapping_dct = {'I':1,\n",
    "    'V':5,\n",
    "    'X':10,\n",
    "    'L':50,\n",
    "    'C':100,\n",
    "    'D':500,\n",
    "    'M':1000}\n",
    "\n",
    "    special_cases = {'IV':4, 'IX':9, 'XL':40,'XC':90,'CD':400,'CM':900}\n",
    "\n",
    "    if s in special_cases.keys():\n",
    "        return special_cases[s]\n",
    "    roman_num_cpy = copy(s)\n",
    "    NUM=0\n",
    "\n",
    "    for key,value in special_cases.items():\n",
    "        if key in roman_num_cpy:\n",
    "            NUM+=value\n",
    "            roman_num_cpy = roman_num_cpy.replace(key,'')\n",
    "\n",
    "    for element in roman_num_cpy:\n",
    "       NUM+= mapping_dct[element]\n",
    "\n",
    "    return NUM\n",
    "\n"
   ]
  },
  {
   "cell_type": "code",
   "execution_count": 14,
   "metadata": {},
   "outputs": [
    {
     "name": "stdout",
     "output_type": "stream",
     "text": [
      "True 3\n",
      "True 58\n",
      "True 1994\n"
     ]
    }
   ],
   "source": [
    "test_cases = [('III', 3), ('LVIII',58),('MCMXCIV',1994)]\n",
    "\n",
    "for input, output in test_cases:\n",
    "    print(output==romanToInt(input),romanToInt(input) )"
   ]
  }
 ],
 "metadata": {
  "kernelspec": {
   "display_name": ".venv",
   "language": "python",
   "name": "python3"
  },
  "language_info": {
   "codemirror_mode": {
    "name": "ipython",
    "version": 3
   },
   "file_extension": ".py",
   "mimetype": "text/x-python",
   "name": "python",
   "nbconvert_exporter": "python",
   "pygments_lexer": "ipython3",
   "version": "3.10.0"
  }
 },
 "nbformat": 4,
 "nbformat_minor": 2
}
