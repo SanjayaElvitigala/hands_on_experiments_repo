{
 "cells": [
  {
   "cell_type": "code",
   "execution_count": 10,
   "metadata": {},
   "outputs": [],
   "source": [
    "import numpy as np\n",
    "from typing import List"
   ]
  },
  {
   "cell_type": "code",
   "execution_count": 6,
   "metadata": {},
   "outputs": [
    {
     "data": {
      "text/plain": [
       "['a', 'b']"
      ]
     },
     "execution_count": 6,
     "metadata": {},
     "output_type": "execute_result"
    }
   ],
   "source": [
    "'/a/b'[1:].split('/')"
   ]
  },
  {
   "cell_type": "code",
   "execution_count": 8,
   "metadata": {},
   "outputs": [
    {
     "data": {
      "text/plain": [
       "'/'"
      ]
     },
     "execution_count": 8,
     "metadata": {},
     "output_type": "execute_result"
    }
   ],
   "source": [
    "'/'+'/'.join('/a/b'[1:].split('/'))[:0]"
   ]
  },
  {
   "cell_type": "code",
   "execution_count": 13,
   "metadata": {},
   "outputs": [],
   "source": [
    "def removeSubfolders( folder: List[str]) -> List[str]:\n",
    "    mod_folders=[]\n",
    "    for original_folder in folder:\n",
    "        split_str = original_folder[1:].split('/') # [1:] removing the starting /\n",
    "        for index, each_folder in enumerate(split_str):\n",
    "            check_folder = '/'+'/'.join(split_str[:index+1])\n",
    "            if check_folder in folder:\n",
    "                mod_folders.append(check_folder)\n",
    "                break\n",
    "\n",
    "    return list(set(mod_folders))\n",
    "        \n",
    "\n"
   ]
  },
  {
   "cell_type": "code",
   "execution_count": 14,
   "metadata": {},
   "outputs": [
    {
     "name": "stdout",
     "output_type": "stream",
     "text": [
      "False ['/c/f', '/c/d', '/a']\n",
      "True ['/a']\n",
      "False ['/a/b/d', '/a/b/c', '/a/b/ca']\n"
     ]
    }
   ],
   "source": [
    "test_cases = [([\"/a\",\"/a/b\",\"/c/d\",\"/c/d/e\",\"/c/f\"], [\"/a\",\"/c/d\",\"/c/f\"]), \n",
    "              ([\"/a\",\"/a/b/c\",\"/a/b/d\"], [\"/a\"]),\n",
    "              ([\"/a/b/c\",\"/a/b/ca\",\"/a/b/d\"],[\"/a/b/c\",\"/a/b/ca\",\"/a/b/d\"])]\n",
    "\n",
    "for input, output in test_cases:\n",
    "    print(output==removeSubfolders(input),removeSubfolders(input) )"
   ]
  }
 ],
 "metadata": {
  "kernelspec": {
   "display_name": ".venv",
   "language": "python",
   "name": "python3"
  },
  "language_info": {
   "codemirror_mode": {
    "name": "ipython",
    "version": 3
   },
   "file_extension": ".py",
   "mimetype": "text/x-python",
   "name": "python",
   "nbconvert_exporter": "python",
   "pygments_lexer": "ipython3",
   "version": "3.10.0"
  }
 },
 "nbformat": 4,
 "nbformat_minor": 2
}
