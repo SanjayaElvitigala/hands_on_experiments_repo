{
 "cells": [
  {
   "cell_type": "code",
   "execution_count": 1,
   "metadata": {},
   "outputs": [],
   "source": [
    "import numpy as np\n",
    "import re\n",
    "from typing import List\n",
    "\n",
    "from copy import copy"
   ]
  },
  {
   "cell_type": "code",
   "execution_count": 2,
   "metadata": {},
   "outputs": [],
   "source": [
    "sample_test_cases = [\n",
    "    ([\"flower\",\"flow\",\"flight\"],\"fl\"),\n",
    "    ([\"dog\",\"racecar\",\"car\"],\"\"),\n",
    "    ([\"cir\",\"car\"],'c'),\n",
    "    ([\"aa\",\"aa\"],\"aa\"),\n",
    "    ([\"flower\",\"fkow\"],\"f\")\n",
    "                     ]"
   ]
  },
  {
   "cell_type": "code",
   "execution_count": 3,
   "metadata": {},
   "outputs": [],
   "source": [
    "def get_row_wise_equals(row):\n",
    "    if np.all(row[0]==row):\n",
    "        return True\n",
    "    else:\n",
    "        return False\n",
    "vfunc_row_wise_equals = np.vectorize(get_row_wise_equals, signature='(n)->()')\n",
    "def get_continuous_index(input_array):\n",
    "    boolean_array= []\n",
    "    for index,cols in enumerate(input_array):\n",
    "        current_row_cond = (cols[-1]=='True')\n",
    "        if index==0:\n",
    "            boolean_array.append(current_row_cond)\n",
    "        else:\n",
    "            prev_row_cond = ((input_array[index-1][-1]=='True') and (boolean_array[index-1]==True))\n",
    "            boolean_array.append((current_row_cond and prev_row_cond))\n",
    "    return np.array(boolean_array)\n",
    "\n",
    "\n",
    "def longestCommonPrefix(strs: List[str]) -> str:\n",
    "    n_words = len(strs)\n",
    "\n",
    "    len_longest = len(sorted(strs, key=lambda word: len(word), reverse=True)[0])\n",
    "    individual_letters = []\n",
    "    for word in strs:\n",
    "        word_cpy= copy(word)\n",
    "        len_word = len(word)\n",
    "        word_cpy+=''.join(['_' for i in range(len_longest-len_word)])\n",
    "        individual_letters.append(list(word_cpy))\n",
    "    \n",
    "    vfunc_row_wise_equals = np.vectorize(get_row_wise_equals, signature='(n)->()')\n",
    "\n",
    "    letter_ndarray = np.array(individual_letters).T\n",
    "\n",
    "    #identify common letters among words\n",
    "    mod_letter_ndarray = np.concatenate((letter_ndarray,vfunc_row_wise_equals(letter_ndarray).reshape(len_longest,1)), axis=1)\n",
    "\n",
    "    # identifying consecutive common prefixes\n",
    "    final_nd_array = np.concatenate((mod_letter_ndarray,get_continuous_index(mod_letter_ndarray).reshape(len_longest,1)), axis=1)\n",
    "\n",
    "    return ''.join(final_nd_array[final_nd_array[:,-1]=='True'][:,0])"
   ]
  },
  {
   "cell_type": "code",
   "execution_count": 4,
   "metadata": {},
   "outputs": [
    {
     "name": "stdout",
     "output_type": "stream",
     "text": [
      "['flower', 'flow', 'flight']\n",
      "True\n",
      "['dog', 'racecar', 'car']\n",
      "True\n",
      "['cir', 'car']\n",
      "True\n",
      "['aa', 'aa']\n",
      "True\n",
      "['flower', 'fkow']\n",
      "True\n"
     ]
    }
   ],
   "source": [
    "for test_case, expected_val in sample_test_cases:\n",
    "    print(test_case)\n",
    "    print(expected_val==longestCommonPrefix(test_case))"
   ]
  },
  {
   "cell_type": "code",
   "execution_count": null,
   "metadata": {},
   "outputs": [],
   "source": []
  }
 ],
 "metadata": {
  "kernelspec": {
   "display_name": "PHG-VfhgH-9c",
   "language": "python",
   "name": "python3"
  },
  "language_info": {
   "codemirror_mode": {
    "name": "ipython",
    "version": 3
   },
   "file_extension": ".py",
   "mimetype": "text/x-python",
   "name": "python",
   "nbconvert_exporter": "python",
   "pygments_lexer": "ipython3",
   "version": "3.10.0"
  }
 },
 "nbformat": 4,
 "nbformat_minor": 2
}
