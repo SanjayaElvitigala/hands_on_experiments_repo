{
 "cells": [
  {
   "cell_type": "code",
   "execution_count": 8,
   "metadata": {},
   "outputs": [],
   "source": [
    "import numpy as np\n",
    "from typing import List"
   ]
  },
  {
   "cell_type": "code",
   "execution_count": 11,
   "metadata": {},
   "outputs": [],
   "source": [
    "#accepted solution\n",
    "\n",
    "def removeElement( nums: List[int], val: int) -> int:\n",
    "    nums_cpy = nums.copy()\n",
    "    all_removed = False\n",
    "    while not all_removed:\n",
    "        try:\n",
    "            nums_cpy.remove(val)\n",
    "        except ValueError as e:\n",
    "            all_removed = True\n",
    "    return len(nums_cpy)\n"
   ]
  },
  {
   "cell_type": "code",
   "execution_count": 13,
   "metadata": {},
   "outputs": [
    {
     "name": "stdout",
     "output_type": "stream",
     "text": [
      "True\n",
      "True\n"
     ]
    }
   ],
   "source": [
    "test_cases = [([3,2,2,3],3, 2), ([0,1,2,2,3,0,4,2],2,5)]\n",
    "\n",
    "for nums,input, output in test_cases:\n",
    "    print(output==removeElement(nums,input))"
   ]
  }
 ],
 "metadata": {
  "kernelspec": {
   "display_name": ".venv",
   "language": "python",
   "name": "python3"
  },
  "language_info": {
   "codemirror_mode": {
    "name": "ipython",
    "version": 3
   },
   "file_extension": ".py",
   "mimetype": "text/x-python",
   "name": "python",
   "nbconvert_exporter": "python",
   "pygments_lexer": "ipython3",
   "version": "3.10.0"
  }
 },
 "nbformat": 4,
 "nbformat_minor": 2
}
