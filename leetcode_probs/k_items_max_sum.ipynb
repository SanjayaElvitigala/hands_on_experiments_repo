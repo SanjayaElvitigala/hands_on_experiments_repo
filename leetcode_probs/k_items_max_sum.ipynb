{
 "cells": [
  {
   "cell_type": "code",
   "execution_count": 1,
   "metadata": {},
   "outputs": [],
   "source": [
    "import numpy as np"
   ]
  },
  {
   "cell_type": "code",
   "execution_count": 7,
   "metadata": {},
   "outputs": [],
   "source": [
    "sample_test_cases = [\n",
    "    ((3,2,0,2),2),\n",
    "    ((3,2,0,4),3),\n",
    "    ((6,6,6,13),5),\n",
    "    ]"
   ]
  },
  {
   "cell_type": "code",
   "execution_count": 30,
   "metadata": {},
   "outputs": [],
   "source": [
    "def kItemsWithMaximumSum(numOnes: int, numZeros: int, numNegOnes: int, k: int) -> int:\n",
    "    if k<=numOnes:\n",
    "        return np.sum([1]*k)\n",
    "    else:\n",
    "        cnt_zeros = (k-numOnes) if (k-numOnes)<=numZeros else numZeros\n",
    "        cnt_neg_ones = (k-cnt_zeros-numOnes)\n",
    "                     \n",
    "        return np.sum([1]*numOnes+[0]*cnt_zeros+[-1]*cnt_neg_ones)\n"
   ]
  },
  {
   "cell_type": "code",
   "execution_count": 31,
   "metadata": {},
   "outputs": [
    {
     "name": "stdout",
     "output_type": "stream",
     "text": [
      "______\n",
      "(3, 2, 0, 2) 2\n",
      "2\n",
      "True\n",
      "______\n",
      "(3, 2, 0, 4) 3\n",
      "3\n",
      "True\n",
      "______\n",
      "(6, 6, 6, 13) 5\n",
      "5\n",
      "True\n"
     ]
    }
   ],
   "source": [
    "for test_case, expected_val in sample_test_cases:\n",
    "    print('______')\n",
    "    print(test_case,expected_val)\n",
    "    print(kItemsWithMaximumSum(*test_case))\n",
    "    print(expected_val==kItemsWithMaximumSum(*test_case))"
   ]
  },
  {
   "cell_type": "code",
   "execution_count": null,
   "metadata": {},
   "outputs": [],
   "source": []
  },
  {
   "cell_type": "code",
   "execution_count": null,
   "metadata": {},
   "outputs": [],
   "source": []
  }
 ],
 "metadata": {
  "kernelspec": {
   "display_name": "PHG-VfhgH-9c",
   "language": "python",
   "name": "python3"
  },
  "language_info": {
   "codemirror_mode": {
    "name": "ipython",
    "version": 3
   },
   "file_extension": ".py",
   "mimetype": "text/x-python",
   "name": "python",
   "nbconvert_exporter": "python",
   "pygments_lexer": "ipython3",
   "version": "3.10.0"
  }
 },
 "nbformat": 4,
 "nbformat_minor": 2
}
