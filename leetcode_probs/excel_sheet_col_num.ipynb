{
 "cells": [
  {
   "cell_type": "code",
   "execution_count": 30,
   "metadata": {},
   "outputs": [],
   "source": [
    "import numpy as np"
   ]
  },
  {
   "cell_type": "code",
   "execution_count": 31,
   "metadata": {},
   "outputs": [],
   "source": [
    "sample_test_cases = [\n",
    "    (\"A\",1),\n",
    "    (\"AB\",28),\n",
    "    (\"ZY\",701),\n",
    "    (\"AAA\",703),\n",
    "    (\"FXSHRXW\",2147483647)\n",
    "]"
   ]
  },
  {
   "cell_type": "code",
   "execution_count": 32,
   "metadata": {},
   "outputs": [],
   "source": [
    "def titleToNumber(columnTitle: str) -> int:\n",
    "\n",
    "        #count how many letters in col title -> level\n",
    "        #zip the alphabets based on this level\n",
    "\n",
    "        alphabet = ['A','B','C','D','E','F','G','H','I','J','K','L','M','N','O','P','Q','R','S','T','U','V','W','X','Y','Z']\n",
    "\n",
    "        len_col_title = len(columnTitle)\n",
    "\n",
    "        if len_col_title==1:\n",
    "            return  alphabet.index(columnTitle)+1\n",
    "        \n",
    "        power_factors = np.array([26**(i) for i in range(len_col_title-1,-1,-1)])\n",
    "        coef_factors = np.array([alphabet.index(str_)+1 for str_ in columnTitle])\n",
    "\n",
    "        summed_values = np.sum(power_factors*coef_factors)\n",
    "\n",
    "        return summed_values\n"
   ]
  },
  {
   "cell_type": "code",
   "execution_count": 33,
   "metadata": {},
   "outputs": [
    {
     "name": "stdout",
     "output_type": "stream",
     "text": [
      "______\n",
      "A 1\n",
      "1\n",
      "True\n",
      "______\n",
      "AB 28\n",
      "28\n",
      "True\n",
      "______\n",
      "ZY 701\n",
      "701\n",
      "True\n",
      "______\n",
      "AAA 703\n",
      "703\n",
      "True\n",
      "______\n",
      "FXSHRXW 2147483647\n",
      "2147483647\n",
      "True\n"
     ]
    }
   ],
   "source": [
    "for test_case, expected_val in sample_test_cases:\n",
    "    print('______')\n",
    "    print(test_case,expected_val)\n",
    "    print(titleToNumber(test_case))\n",
    "    print(expected_val==titleToNumber(test_case))"
   ]
  },
  {
   "cell_type": "code",
   "execution_count": null,
   "metadata": {},
   "outputs": [],
   "source": []
  }
 ],
 "metadata": {
  "kernelspec": {
   "display_name": "PHG-VfhgH-9c",
   "language": "python",
   "name": "python3"
  },
  "language_info": {
   "codemirror_mode": {
    "name": "ipython",
    "version": 3
   },
   "file_extension": ".py",
   "mimetype": "text/x-python",
   "name": "python",
   "nbconvert_exporter": "python",
   "pygments_lexer": "ipython3",
   "version": "3.10.0"
  }
 },
 "nbformat": 4,
 "nbformat_minor": 2
}
