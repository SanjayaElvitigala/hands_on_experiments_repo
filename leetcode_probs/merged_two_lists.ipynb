{
 "cells": [
  {
   "cell_type": "code",
   "execution_count": 1,
   "metadata": {},
   "outputs": [],
   "source": [
    "from typing import Optional"
   ]
  },
  {
   "cell_type": "code",
   "execution_count": null,
   "metadata": {},
   "outputs": [],
   "source": [
    "# Definition for singly-linked list leetcode definition.\n",
    "class ListNode:\n",
    "    def __init__(self, val=0, next=None):\n",
    "        self.val = val\n",
    "        self.next = next"
   ]
  },
  {
   "cell_type": "code",
   "execution_count": null,
   "metadata": {},
   "outputs": [],
   "source": [
    "# solution was accepted\n",
    "def mergeTwoLists(self, list1: Optional[ListNode], list2: Optional[ListNode]) -> Optional[ListNode]:\n",
    "        converted_list1=[]\n",
    "        converted_list2=[]\n",
    "        if list1!=None:\n",
    "            converted_list1 = list1._list_node_to_array()\n",
    "        if list2!=None:\n",
    "            converted_list2 =list2._list_node_to_array()\n",
    "\n",
    "        combined_list = sorted(converted_list1+converted_list2, reverse=True)\n",
    "\n",
    "        last_updated_listnode = None\n",
    "        for index,element in enumerate(combined_list):\n",
    "            if index==0:\n",
    "                temp_instance = ListNode(\n",
    "                    val=element, \n",
    "                    next = None\n",
    "                    )\n",
    "                last_updated_listnode =  temp_instance\n",
    "            else:\n",
    "                temp_instance = ListNode(\n",
    "                    val=element, \n",
    "                    next = last_updated_listnode\n",
    "                    )\n",
    "                last_updated_listnode = temp_instance\n",
    "        return last_updated_listnode"
   ]
  }
 ],
 "metadata": {
  "kernelspec": {
   "display_name": "PHG-VfhgH-9c",
   "language": "python",
   "name": "python3"
  },
  "language_info": {
   "codemirror_mode": {
    "name": "ipython",
    "version": 3
   },
   "file_extension": ".py",
   "mimetype": "text/x-python",
   "name": "python",
   "nbconvert_exporter": "python",
   "pygments_lexer": "ipython3",
   "version": "3.10.0"
  }
 },
 "nbformat": 4,
 "nbformat_minor": 2
}
