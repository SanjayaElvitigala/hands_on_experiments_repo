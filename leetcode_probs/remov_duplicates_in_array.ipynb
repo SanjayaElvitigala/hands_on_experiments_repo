{
 "cells": [
  {
   "cell_type": "code",
   "execution_count": 15,
   "metadata": {},
   "outputs": [],
   "source": [
    "import numpy as np\n",
    "from typing import List"
   ]
  },
  {
   "cell_type": "code",
   "execution_count": 2,
   "metadata": {},
   "outputs": [],
   "source": [
    "sample_test_cases = [\n",
    "    ([1,1,2],[1,2]), \n",
    "    ([0,0,1,1,1,2,2,3,3,4],[0,1,2,3,4])\n",
    "                     ]"
   ]
  },
  {
   "cell_type": "code",
   "execution_count": null,
   "metadata": {},
   "outputs": [],
   "source": [
    "def removeDuplicates(self, nums: List[int]) -> int:\n",
    "        np_array = np.array(nums)\n",
    "        uniq_array = np.unique(np_array)\n",
    "        \n",
    "        #changing elements in inplace\n",
    "        nums[:len(uniq_array)] = list(uniq_array)\n",
    "        nums[len(uniq_array):] = '_'\n",
    "\n",
    "        return len(uniq_array) "
   ]
  }
 ],
 "metadata": {
  "kernelspec": {
   "display_name": "PHG-VfhgH-9c",
   "language": "python",
   "name": "python3"
  },
  "language_info": {
   "codemirror_mode": {
    "name": "ipython",
    "version": 3
   },
   "file_extension": ".py",
   "mimetype": "text/x-python",
   "name": "python",
   "nbconvert_exporter": "python",
   "pygments_lexer": "ipython3",
   "version": "3.10.0"
  }
 },
 "nbformat": 4,
 "nbformat_minor": 2
}
