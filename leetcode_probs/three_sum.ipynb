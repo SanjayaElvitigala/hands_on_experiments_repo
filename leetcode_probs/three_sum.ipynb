{
 "cells": [
  {
   "cell_type": "code",
   "execution_count": 1,
   "metadata": {},
   "outputs": [],
   "source": [
    "import numpy as np\n",
    "import itertools"
   ]
  },
  {
   "cell_type": "markdown",
   "metadata": {},
   "source": [
    "summation of 3 elements should be zero in given array. all possible triplets should be returned"
   ]
  },
  {
   "cell_type": "code",
   "execution_count": 133,
   "metadata": {},
   "outputs": [],
   "source": [
    "sample_test_cases = [ \n",
    "    ([-1,0,1,2,-1,-4], [[-1,-1,2],[-1,0,1]]), \n",
    "    ([0,1,1], []),\n",
    "    ([0,0,0], [[0,0,0]]),\n",
    "    ([34,55,79,28,46,33,2,48,31,-3,84,71,52,-3,93,15,21,-43,57,-6,86,56,94,74,83,-14,28,-66,46,-49,62,-11,43,65,77,12,47,61,26,1,13,29,55,-82,76,26,15,-29,36,-29,10,-70,69,17,49],[[-82,-11,93],[-82,13,69],[-82,17,65],[-82,21,61],[-82,26,56],[-82,33,49],[-82,34,48],[-82,36,46],[-70,-14,84],[-70,-6,76],[-70,1,69],[-70,13,57],[-70,15,55],[-70,21,49],[-70,34,36],[-66,-11,77],[-66,-3,69],[-66,1,65],[-66,10,56],[-66,17,49],[-49,-6,55],[-49,-3,52],[-49,1,48],[-49,2,47],[-49,13,36],[-49,15,34],[-49,21,28],[-43,-14,57],[-43,-6,49],[-43,-3,46],[-43,10,33],[-43,12,31],[-43,15,28],[-43,17,26],[-29,-14,43],[-29,1,28],[-29,12,17],[-14,-3,17],[-14,1,13],[-14,2,12],[-11,-6,17],[-11,1,10],[-3,1,2]])\n",
    "                     ]"
   ]
  },
  {
   "cell_type": "code",
   "execution_count": 134,
   "metadata": {},
   "outputs": [],
   "source": [
    "def get_zero_sum_triplets(nums):\n",
    "    \n",
    "    def get_uniq_indexes(inner_arry):\n",
    "        #checking if sorted arrays are equal to each other\n",
    "        # and if values inside the arrays are unique.\n",
    "        if np.all(inner_arry==sorted(inner_arry)):\n",
    "            return len(inner_arry)==len(np.unique(inner_arry))\n",
    "        else:\n",
    "            False\n",
    "    vfunc_uniq_index = np.vectorize(get_uniq_indexes, signature='(n)->()')\n",
    "\n",
    "    def get_row_wise_sum(inner_indexes, input_array = np.array(nums)):\n",
    "        if np.sum(input_array[inner_indexes])==0:\n",
    "            return input_array[inner_indexes]\n",
    "        else:\n",
    "            # returning dummy value if summation of the indexes is not zero\n",
    "            return np.array([1000,1000,1000])\n",
    "    vfunc_row_wise_sum = np.vectorize(get_row_wise_sum, signature='(n)->(n)')\n",
    "\n",
    "    all_indexes = np.arange(len(nums))\n",
    "    index_combinations = np.array(list(itertools.product(*[all_indexes]*3)))\n",
    "\n",
    "    # getting rows where unique indexes are there \n",
    "    unique_index_combos = index_combinations[vfunc_uniq_index(index_combinations)]\n",
    "\n",
    "    # getting rows which are equal to zero\n",
    "    zero_sum_arrays = vfunc_row_wise_sum(unique_index_combos)\n",
    "    # removing rows with dummy value\n",
    "    final_zero_sum_arrays = zero_sum_arrays[np.any(zero_sum_arrays!=1000, axis=1)]\n",
    "\n",
    "    # Sort each row to handle permutations\n",
    "    row_wise_sorted_array = np.sort(final_zero_sum_arrays, axis=1)\n",
    "\n",
    "    # Remove duplicate rows\n",
    "    distinct_triplets = np.unique(row_wise_sorted_array, axis=0)\n",
    "\n",
    "    return distinct_triplets\n",
    "\n",
    "    \n"
   ]
  },
  {
   "cell_type": "code",
   "execution_count": 137,
   "metadata": {},
   "outputs": [
    {
     "name": "stdout",
     "output_type": "stream",
     "text": [
      "input_nums [-1, 0, 1, 2, -1, -4] expected_triplets: [[-1, -1, 2], [-1, 0, 1]]\n",
      "input_nums [0, 1, 1] expected_triplets: []\n",
      "input_nums [0, 0, 0] expected_triplets: [[0, 0, 0]]\n",
      "input_nums [34, 55, 79, 28, 46, 33, 2, 48, 31, -3, 84, 71, 52, -3, 93, 15, 21, -43, 57, -6, 86, 56, 94, 74, 83, -14, 28, -66, 46, -49, 62, -11, 43, 65, 77, 12, 47, 61, 26, 1, 13, 29, 55, -82, 76, 26, 15, -29, 36, -29, 10, -70, 69, 17, 49] expected_triplets: [[-82, -11, 93], [-82, 13, 69], [-82, 17, 65], [-82, 21, 61], [-82, 26, 56], [-82, 33, 49], [-82, 34, 48], [-82, 36, 46], [-70, -14, 84], [-70, -6, 76], [-70, 1, 69], [-70, 13, 57], [-70, 15, 55], [-70, 21, 49], [-70, 34, 36], [-66, -11, 77], [-66, -3, 69], [-66, 1, 65], [-66, 10, 56], [-66, 17, 49], [-49, -6, 55], [-49, -3, 52], [-49, 1, 48], [-49, 2, 47], [-49, 13, 36], [-49, 15, 34], [-49, 21, 28], [-43, -14, 57], [-43, -6, 49], [-43, -3, 46], [-43, 10, 33], [-43, 12, 31], [-43, 15, 28], [-43, 17, 26], [-29, -14, 43], [-29, 1, 28], [-29, 12, 17], [-14, -3, 17], [-14, 1, 13], [-14, 2, 12], [-11, -6, 17], [-11, 1, 10], [-3, 1, 2]]\n"
     ]
    }
   ],
   "source": [
    "for nums, expected_vals in sample_test_cases:\n",
    "    print('input_nums',nums, 'expected_triplets:',expected_vals)\n",
    "\n",
    "    np.testing.assert_array_equal(expected_vals,list(get_zero_sum_triplets(nums)))\n",
    "    # print('\\toutput_triplets',get_zero_sum_triplets(nums))"
   ]
  },
  {
   "cell_type": "code",
   "execution_count": 255,
   "metadata": {},
   "outputs": [
    {
     "data": {
      "text/plain": [
       "array([[-10,   2,   8],\n",
       "       [-10,   3,   7],\n",
       "       [ -9,   0,   9],\n",
       "       [ -9,   2,   7],\n",
       "       [ -7,  -2,   9],\n",
       "       [ -7,   0,   7],\n",
       "       [ -5,  -4,   9],\n",
       "       [ -5,  -3,   8],\n",
       "       [ -5,  -2,   7],\n",
       "       [ -5,   2,   3],\n",
       "       [ -4,  -4,   8],\n",
       "       [ -4,  -3,   7],\n",
       "       [ -4,   2,   2],\n",
       "       [ -3,   0,   3],\n",
       "       [ -2,   0,   2]])"
      ]
     },
     "execution_count": 255,
     "metadata": {},
     "output_type": "execute_result"
    }
   ],
   "source": [
    "\n",
    "get_zero_sum_triplets([2,-2,9,-9,7,-7,2,-7,0,3,8,-9,-3,-9,-3,-10,-5,-4,-3,-9,-9,-4,0,3,-10,-7])"
   ]
  },
  {
   "cell_type": "code",
   "execution_count": 157,
   "metadata": {},
   "outputs": [],
   "source": [
    "meshgrid_out = np.array(np.meshgrid( [0,1,2],  [0,1,2],  [0,1,2])).T.reshape(-1,3)\n",
    "meshgrid_out = np.sort(meshgrid_out, axis=1)\n",
    "\n",
    "itertools_out = np.array(list(itertools.product([0,1,2],  [0,1,2],  [0,1,2])))\n",
    "itertools_out = np.sort(itertools_out, axis=1)\n",
    "\n",
    "np.testing.assert_array_equal(meshgrid_out,itertools_out)"
   ]
  },
  {
   "cell_type": "code",
   "execution_count": 160,
   "metadata": {},
   "outputs": [],
   "source": [
    "def get_zero_sum_triplets_v2(nums):\n",
    "    indexes = np.arange(len(nums))\n",
    "\n",
    "    all_indexes  = np.array(np.meshgrid( indexes, indexes, indexes)).T.reshape(-1,3)\n",
    "\n",
    "    def get_row_wise_uniq(row):\n",
    "        row = list(row)\n",
    "        uniq_row = list(set(row))\n",
    "        return uniq_row == row\n",
    "\n",
    "    def get_row_wise_zerosum(row, input_array = np.array(nums)):\n",
    "        if np.sum(input_array[row])==0:\n",
    "            return input_array[row].astype('float')\n",
    "        else:\n",
    "            return np.array([np.nan,np.nan,np.nan])\n",
    "\n",
    "    vfunc_row_wise_uniq = np.vectorize(get_row_wise_uniq, signature='(n)->()')\n",
    "    vfunc_row_wise_zerosum = np.vectorize(get_row_wise_zerosum, signature='(n)->(n)')\n",
    "\n",
    "    uniq_indexes = all_indexes[vfunc_row_wise_uniq(all_indexes)]\n",
    "    zero_sums = vfunc_row_wise_zerosum(uniq_indexes)\n",
    "    zero_sums = zero_sums[np.all(~np.isnan(zero_sums), axis=1)]\n",
    "\n",
    "    sorted_zerosums = np.sort(zero_sums, axis=1)\n",
    "    distinct_zerosums = np.unique(sorted_zerosums, axis=0).astype('int')\n",
    "    distinct_zerosums = np.sort(distinct_zerosums, axis=1)\n",
    "\n",
    "    return distinct_zerosums"
   ]
  },
  {
   "cell_type": "code",
   "execution_count": null,
   "metadata": {},
   "outputs": [],
   "source": [
    "for nums, expected_vals in sample_test_cases:\n",
    "    print('input_nums',nums, 'expected_triplets:',expected_vals)\n",
    "\n",
    "    np.testing.assert_array_equal(expected_vals,list(get_zero_sum_triplets_v2(nums)))\n",
    "    # print('\\toutput_triplets',get_zero_sum_triplets_v2(nums))"
   ]
  },
  {
   "cell_type": "code",
   "execution_count": null,
   "metadata": {},
   "outputs": [],
   "source": []
  }
 ],
 "metadata": {
  "kernelspec": {
   "display_name": "PHG-VfhgH-9c",
   "language": "python",
   "name": "python3"
  },
  "language_info": {
   "codemirror_mode": {
    "name": "ipython",
    "version": 3
   },
   "file_extension": ".py",
   "mimetype": "text/x-python",
   "name": "python",
   "nbconvert_exporter": "python",
   "pygments_lexer": "ipython3",
   "version": "3.10.0"
  }
 },
 "nbformat": 4,
 "nbformat_minor": 2
}
