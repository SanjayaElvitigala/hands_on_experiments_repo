{
 "cells": [
  {
   "cell_type": "code",
   "execution_count": 12,
   "metadata": {},
   "outputs": [],
   "source": [
    "import numpy as np\n",
    "import itertools"
   ]
  },
  {
   "cell_type": "markdown",
   "metadata": {},
   "source": [
    "summation of 3 elements should be zero in given array. all possible triplets should be returned"
   ]
  },
  {
   "cell_type": "code",
   "execution_count": 63,
   "metadata": {},
   "outputs": [],
   "source": [
    "sample_test_cases = [ \n",
    "    ([-1,0,1,2,-1,-4], [[-1,-1,2],[-1,0,1]]), \n",
    "    ([0,1,1], []),\n",
    "    ([0,0,0], [[0,0,0]])\n",
    "                     ]"
   ]
  },
  {
   "cell_type": "code",
   "execution_count": 250,
   "metadata": {},
   "outputs": [],
   "source": [
    "def get_zero_sum_triplets(nums):\n",
    "    \n",
    "    def get_uniq_indexes(inner_arry):\n",
    "        #checking if sorted arrays are equal to each other\n",
    "        # and if values inside the arrays are unique.\n",
    "        if np.all(inner_arry==sorted(inner_arry)):\n",
    "            return len(inner_arry)==len(np.unique(inner_arry))\n",
    "        else:\n",
    "            False\n",
    "    vfunc_uniq_index = np.vectorize(get_uniq_indexes, signature='(n)->()')\n",
    "\n",
    "    def get_row_wise_sum(inner_indexes, input_array = np.array(nums)):\n",
    "        if np.sum(input_array[inner_indexes])==0:\n",
    "            return input_array[inner_indexes]\n",
    "        else:\n",
    "            # returning dummy value if summation of the indexes is not zero\n",
    "            return np.array([1000,1000,1000])\n",
    "    vfunc_row_wise_sum = np.vectorize(get_row_wise_sum, signature='(n)->(n)')\n",
    "\n",
    "    all_indexes = np.arange(len(nums))\n",
    "    index_combinations = np.array(list(itertools.product(*[all_indexes]*3)))\n",
    "\n",
    "    # getting rows where unique indexes are there \n",
    "    unique_index_combos = index_combinations[vfunc_uniq_index(index_combinations)]\n",
    "\n",
    "    # getting rows which are equal to zero\n",
    "    zero_sum_arrays = vfunc_row_wise_sum(unique_index_combos)\n",
    "    # removing rows with dummy value\n",
    "    final_zero_sum_arrays = zero_sum_arrays[np.any(zero_sum_arrays!=1000, axis=1)]\n",
    "\n",
    "    # Sort each row to handle permutations\n",
    "    row_wise_sorted_array = np.sort(final_zero_sum_arrays, axis=1)\n",
    "\n",
    "    # Remove duplicate rows\n",
    "    distinct_triplets = np.unique(row_wise_sorted_array, axis=0)\n",
    "\n",
    "    return distinct_triplets\n",
    "\n",
    "    \n"
   ]
  },
  {
   "cell_type": "code",
   "execution_count": 251,
   "metadata": {},
   "outputs": [
    {
     "name": "stdout",
     "output_type": "stream",
     "text": [
      "input_nums [-1, 0, 1, 2, -1, -4] expected_triplets: [[-1, -1, 2], [-1, 0, 1]]\n",
      "\toutput_triplets [[-1 -1  2]\n",
      " [-1  0  1]]\n",
      "input_nums [0, 1, 1] expected_triplets: []\n",
      "\toutput_triplets []\n",
      "input_nums [0, 0, 0] expected_triplets: [[0, 0, 0]]\n",
      "\toutput_triplets [[0 0 0]]\n"
     ]
    }
   ],
   "source": [
    "for nums, expected_vals in sample_test_cases:\n",
    "    print('input_nums',nums, 'expected_triplets:',expected_vals)\n",
    "\n",
    "    print('\\toutput_triplets',get_zero_sum_triplets(nums))"
   ]
  },
  {
   "cell_type": "code",
   "execution_count": 255,
   "metadata": {},
   "outputs": [
    {
     "data": {
      "text/plain": [
       "array([[-10,   2,   8],\n",
       "       [-10,   3,   7],\n",
       "       [ -9,   0,   9],\n",
       "       [ -9,   2,   7],\n",
       "       [ -7,  -2,   9],\n",
       "       [ -7,   0,   7],\n",
       "       [ -5,  -4,   9],\n",
       "       [ -5,  -3,   8],\n",
       "       [ -5,  -2,   7],\n",
       "       [ -5,   2,   3],\n",
       "       [ -4,  -4,   8],\n",
       "       [ -4,  -3,   7],\n",
       "       [ -4,   2,   2],\n",
       "       [ -3,   0,   3],\n",
       "       [ -2,   0,   2]])"
      ]
     },
     "execution_count": 255,
     "metadata": {},
     "output_type": "execute_result"
    }
   ],
   "source": [
    "\n",
    "get_zero_sum_triplets([2,-2,9,-9,7,-7,2,-7,0,3,8,-9,-3,-9,-3,-10,-5,-4,-3,-9,-9,-4,0,3,-10,-7])"
   ]
  },
  {
   "cell_type": "code",
   "execution_count": null,
   "metadata": {},
   "outputs": [],
   "source": []
  }
 ],
 "metadata": {
  "kernelspec": {
   "display_name": "PHG-VfhgH-9c",
   "language": "python",
   "name": "python3"
  },
  "language_info": {
   "codemirror_mode": {
    "name": "ipython",
    "version": 3
   },
   "file_extension": ".py",
   "mimetype": "text/x-python",
   "name": "python",
   "nbconvert_exporter": "python",
   "pygments_lexer": "ipython3",
   "version": "3.10.0"
  }
 },
 "nbformat": 4,
 "nbformat_minor": 2
}
