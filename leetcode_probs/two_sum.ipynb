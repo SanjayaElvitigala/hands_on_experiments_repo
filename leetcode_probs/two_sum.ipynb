{
 "cells": [
  {
   "cell_type": "code",
   "execution_count": 2,
   "metadata": {},
   "outputs": [],
   "source": [
    "import numpy as np"
   ]
  },
  {
   "cell_type": "code",
   "execution_count": null,
   "metadata": {},
   "outputs": [],
   "source": [
    "\n",
    "check = [3,3]\n",
    "target = 6\n",
    "\n",
    "first_index=None\n",
    "second_index=None\n",
    "for index, element in enumerate(check):\n",
    "    sub_copy = check.copy()\n",
    "    sub_copy[index]=0\n",
    "\n",
    "    result=list(element+np.array(sub_copy))\n",
    "    print(element,result)\n",
    "    try:\n",
    "       tgt_index = result.index(target)\n",
    "       first_index = index\n",
    "       second_index=tgt_index\n",
    "\n",
    "       if first_index!=None and second_index!=None:\n",
    "           break\n",
    "\n",
    "    except Exception as e:\n",
    "        print(e)"
   ]
  },
  {
   "cell_type": "code",
   "execution_count": 7,
   "metadata": {},
   "outputs": [],
   "source": [
    "\n",
    "def get_indexes_two_sum(nums, target):\n",
    "    for index, element in enumerate(nums):\n",
    "        sub_copy = nums.copy()\n",
    "        sub_copy[index]=0\n",
    "\n",
    "        result=list(element+np.array(sub_copy))\n",
    "        try:\n",
    "            tgt_index = result.index(target)\n",
    "            return [index, tgt_index]\n",
    "\n",
    "        except Exception as e:\n",
    "            pass"
   ]
  },
  {
   "cell_type": "code",
   "execution_count": 9,
   "metadata": {},
   "outputs": [
    {
     "name": "stdout",
     "output_type": "stream",
     "text": [
      "indexes : [0, 1], 2 + 7 = 9, expected : 9\n",
      "indexes : [1, 2], 2 + 4 = 6, expected : 6\n",
      "indexes : [0, 1], 3 + 3 = 6, expected : 6\n"
     ]
    }
   ],
   "source": [
    "test_cases = [([2,7,11,15], 9), ([3,2,4],6), ([3,3],6)]\n",
    "\n",
    "for nums, target in test_cases:\n",
    "    indexes = get_indexes_two_sum(nums,target)\n",
    "    frst_num = nums[indexes[0]]\n",
    "    scnd_num = nums[indexes[1]]\n",
    "    result_val = frst_num+scnd_num\n",
    "    print(f\"indexes : {indexes}, {frst_num} + {scnd_num} = {result_val}, expected : {target}\")"
   ]
  },
  {
   "cell_type": "code",
   "execution_count": null,
   "metadata": {},
   "outputs": [],
   "source": []
  }
 ],
 "metadata": {
  "kernelspec": {
   "display_name": "PHG-VfhgH-9c",
   "language": "python",
   "name": "python3"
  },
  "language_info": {
   "codemirror_mode": {
    "name": "ipython",
    "version": 3
   },
   "file_extension": ".py",
   "mimetype": "text/x-python",
   "name": "python",
   "nbconvert_exporter": "python",
   "pygments_lexer": "ipython3",
   "version": "3.10.0"
  }
 },
 "nbformat": 4,
 "nbformat_minor": 2
}
